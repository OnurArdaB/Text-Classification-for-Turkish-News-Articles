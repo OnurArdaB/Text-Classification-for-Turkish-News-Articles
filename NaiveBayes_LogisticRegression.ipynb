{
  "nbformat": 4,
  "nbformat_minor": 0,
  "metadata": {
    "colab": {
      "name": "project03_NBLG.ipynb",
      "provenance": [],
      "collapsed_sections": [
        "eIbTphW_NifS",
        "2Cm4IK4yRwPZ",
        "fIOgPOhmSYRV"
      ],
      "toc_visible": true
    },
    "kernelspec": {
      "display_name": "Python 3",
      "name": "python3"
    }
  },
  "cells": [
    {
      "cell_type": "markdown",
      "metadata": {
        "id": "0HP0xnCKMtNH"
      },
      "source": [
        "# Naive Bayes-Logistic Regression"
      ]
    },
    {
      "cell_type": "markdown",
      "metadata": {
        "id": "XhFoo4yPRhZa"
      },
      "source": [
        "<img class=\" lazyloaded\" data-src=\"https://bloopglobal.com/wp-content/uploads/2020/11/interactive-presentation-header-1.gif\" alt=\"\" title=\"interactive-presentation-header\" src=\"https://bloopglobal.com/wp-content/uploads/2020/11/interactive-presentation-header-1.gif\">"
      ]
    },
    {
      "cell_type": "markdown",
      "metadata": {
        "id": "X2TA7edpNAcm"
      },
      "source": [
        "In this project certain classification algorithms will be applied to the given dataset in order to evaluate their performances on different conditions."
      ]
    },
    {
      "cell_type": "code",
      "metadata": {
        "colab": {
          "base_uri": "https://localhost:8080/"
        },
        "id": "og5U8A_LMdL5",
        "outputId": "c6f09e61-dd6a-4d7e-c04f-282b9f738242"
      },
      "source": [
        " from google.colab import drive\n",
        "drive.mount(\"gdrive\")"
      ],
      "execution_count": null,
      "outputs": [
        {
          "output_type": "stream",
          "text": [
            "Drive already mounted at gdrive; to attempt to forcibly remount, call drive.mount(\"gdrive\", force_remount=True).\n"
          ],
          "name": "stdout"
        }
      ]
    },
    {
      "cell_type": "markdown",
      "metadata": {
        "id": "eIbTphW_NifS"
      },
      "source": [
        "## Importing Necessary Libraries and Frameworks"
      ]
    },
    {
      "cell_type": "markdown",
      "metadata": {
        "id": "y5X0dfesNoGb"
      },
      "source": [
        "This procedure is done in only one cell for the sake of simplicity and better representation. Sklearn will used in order to train and test different machine learning algorithms on the provided dataset. Pandas will be used in order to obtain observable dataframes and matplotlib.pyplot will be used for plotting operations regarding on the dataset."
      ]
    },
    {
      "cell_type": "code",
      "metadata": {
        "id": "WXUW5tp7Nwxa"
      },
      "source": [
        "from sklearn.model_selection import train_test_split,cross_val_score,GridSearchCV,KFold\n",
        "from sklearn.metrics import auc,classification_report,RocCurveDisplay,f1_score,accuracy_score,plot_confusion_matrix,confusion_matrix\n",
        "from sklearn.naive_bayes import GaussianNB,MultinomialNB\n",
        "from sklearn.linear_model import LogisticRegression\n",
        "from sklearn.feature_extraction.text import CountVectorizer,TfidfVectorizer\n",
        "from sklearn.pipeline import make_pipeline\n",
        "\n",
        "import gensim.downloader\n",
        "import nltk\n",
        "import string \n",
        "import pandas as pd\n",
        "import numpy as np\n",
        "import matplotlib.pyplot as plt\n",
        "!pip install -q --upgrade ipython\n",
        "!pip install -q --upgrade ipykernel"
      ],
      "execution_count": null,
      "outputs": []
    },
    {
      "cell_type": "markdown",
      "metadata": {
        "id": "2Cm4IK4yRwPZ"
      },
      "source": [
        "## Importing dataset"
      ]
    },
    {
      "cell_type": "code",
      "metadata": {
        "id": "bOqyefxJ5Rpm"
      },
      "source": [
        "PATH = \"/content/gdrive/MyDrive/CS-445\""
      ],
      "execution_count": null,
      "outputs": []
    },
    {
      "cell_type": "code",
      "metadata": {
        "colab": {
          "base_uri": "https://localhost:8080/"
        },
        "id": "OE78b1cDR-gB",
        "outputId": "b7c03e18-be43-44ce-846f-8ff2d032e612"
      },
      "source": [
        "train_df = pd.read_csv(PATH+\"/train.csv\",index_col=0)\n",
        "train_df.head(-1)"
      ],
      "execution_count": null,
      "outputs": [
        {
          "output_type": "execute_result",
          "data": {
            "text/html": [
              "<div>\n",
              "<style scoped>\n",
              "    .dataframe tbody tr th:only-of-type {\n",
              "        vertical-align: middle;\n",
              "    }\n",
              "\n",
              "    .dataframe tbody tr th {\n",
              "        vertical-align: top;\n",
              "    }\n",
              "\n",
              "    .dataframe thead th {\n",
              "        text-align: right;\n",
              "    }\n",
              "</style>\n",
              "<table border=\"1\" class=\"dataframe\">\n",
              "  <thead>\n",
              "    <tr style=\"text-align: right;\">\n",
              "      <th></th>\n",
              "      <th>id</th>\n",
              "      <th>text</th>\n",
              "      <th>label</th>\n",
              "    </tr>\n",
              "  </thead>\n",
              "  <tbody>\n",
              "    <tr>\n",
              "      <th>0</th>\n",
              "      <td>547530</td>\n",
              "      <td>Beşiktaş'ın eski teknik direktörü Slaven Bilic...</td>\n",
              "      <td>spor</td>\n",
              "    </tr>\n",
              "    <tr>\n",
              "      <th>1</th>\n",
              "      <td>42683</td>\n",
              "      <td>14 Şubat, Katolik Kilisesi’nin azizlerinden St...</td>\n",
              "      <td>yazarlar</td>\n",
              "    </tr>\n",
              "    <tr>\n",
              "      <th>2</th>\n",
              "      <td>770925</td>\n",
              "      <td>İstanbul Kağıthane’de gece yarısı sokakta oyun...</td>\n",
              "      <td>video</td>\n",
              "    </tr>\n",
              "    <tr>\n",
              "      <th>3</th>\n",
              "      <td>473224</td>\n",
              "      <td>Ziraat Türkiye Kupası maçında deplasmanda Amed...</td>\n",
              "      <td>video</td>\n",
              "    </tr>\n",
              "    <tr>\n",
              "      <th>4</th>\n",
              "      <td>44833</td>\n",
              "      <td>Eski Brezilyalı yıldız oyuncu Ronaldo, Brezily...</td>\n",
              "      <td>spor</td>\n",
              "    </tr>\n",
              "    <tr>\n",
              "      <th>...</th>\n",
              "      <td>...</td>\n",
              "      <td>...</td>\n",
              "      <td>...</td>\n",
              "    </tr>\n",
              "    <tr>\n",
              "      <th>7994</th>\n",
              "      <td>812733</td>\n",
              "      <td>Çanakkale’den “Herkes İçin Adalet” diye seslen...</td>\n",
              "      <td>yazarlar</td>\n",
              "    </tr>\n",
              "    <tr>\n",
              "      <th>7995</th>\n",
              "      <td>786591</td>\n",
              "      <td>Eskişehirspor Yönetimi, teknik direktörlük gör...</td>\n",
              "      <td>spor</td>\n",
              "    </tr>\n",
              "    <tr>\n",
              "      <th>7996</th>\n",
              "      <td>144257</td>\n",
              "      <td>UEFA Disiplin Kurulu, Borussia Dortmund-Galata...</td>\n",
              "      <td>spor</td>\n",
              "    </tr>\n",
              "    <tr>\n",
              "      <th>7997</th>\n",
              "      <td>675701</td>\n",
              "      <td>Rusya Federasyon Konseyi Uluslararası İlişkile...</td>\n",
              "      <td>dunya</td>\n",
              "    </tr>\n",
              "    <tr>\n",
              "      <th>7998</th>\n",
              "      <td>680725</td>\n",
              "      <td>Rusya’nın BM Büyükelçisi Vitaly Çurkin New Yor...</td>\n",
              "      <td>dunya</td>\n",
              "    </tr>\n",
              "  </tbody>\n",
              "</table>\n",
              "<p>7999 rows × 3 columns</p>\n",
              "</div>"
            ],
            "text/plain": [
              "          id                                               text     label\n",
              "0     547530  Beşiktaş'ın eski teknik direktörü Slaven Bilic...      spor\n",
              "1      42683  14 Şubat, Katolik Kilisesi’nin azizlerinden St...  yazarlar\n",
              "2     770925  İstanbul Kağıthane’de gece yarısı sokakta oyun...     video\n",
              "3     473224  Ziraat Türkiye Kupası maçında deplasmanda Amed...     video\n",
              "4      44833  Eski Brezilyalı yıldız oyuncu Ronaldo, Brezily...      spor\n",
              "...      ...                                                ...       ...\n",
              "7994  812733  Çanakkale’den “Herkes İçin Adalet” diye seslen...  yazarlar\n",
              "7995  786591  Eskişehirspor Yönetimi, teknik direktörlük gör...      spor\n",
              "7996  144257  UEFA Disiplin Kurulu, Borussia Dortmund-Galata...      spor\n",
              "7997  675701  Rusya Federasyon Konseyi Uluslararası İlişkile...     dunya\n",
              "7998  680725  Rusya’nın BM Büyükelçisi Vitaly Çurkin New Yor...     dunya\n",
              "\n",
              "[7999 rows x 3 columns]"
            ]
          },
          "metadata": {
            "tags": []
          },
          "execution_count": 52
        }
      ]
    },
    {
      "cell_type": "code",
      "metadata": {
        "colab": {
          "base_uri": "https://localhost:8080/"
        },
        "id": "9tt3IMzjSJXf",
        "outputId": "50899e3b-6559-4d71-ef58-a4a31fdedcf7"
      },
      "source": [
        "test_df = pd.read_csv(PATH+\"/test.csv\",index_col=0)\n",
        "test_df.head(-1)"
      ],
      "execution_count": null,
      "outputs": [
        {
          "output_type": "execute_result",
          "data": {
            "text/html": [
              "<div>\n",
              "<style scoped>\n",
              "    .dataframe tbody tr th:only-of-type {\n",
              "        vertical-align: middle;\n",
              "    }\n",
              "\n",
              "    .dataframe tbody tr th {\n",
              "        vertical-align: top;\n",
              "    }\n",
              "\n",
              "    .dataframe thead th {\n",
              "        text-align: right;\n",
              "    }\n",
              "</style>\n",
              "<table border=\"1\" class=\"dataframe\">\n",
              "  <thead>\n",
              "    <tr style=\"text-align: right;\">\n",
              "      <th></th>\n",
              "      <th>id</th>\n",
              "      <th>text</th>\n",
              "      <th>label</th>\n",
              "    </tr>\n",
              "  </thead>\n",
              "  <tbody>\n",
              "    <tr>\n",
              "      <th>0</th>\n",
              "      <td>416549</td>\n",
              "      <td>\"Filmimde oynadı ama 32 yıldır görmüyordum abi...</td>\n",
              "      <td>video</td>\n",
              "    </tr>\n",
              "    <tr>\n",
              "      <th>1</th>\n",
              "      <td>462801</td>\n",
              "      <td>Katalonya'nın yeni Başkanı Carles Puigdemont, ...</td>\n",
              "      <td>dunya</td>\n",
              "    </tr>\n",
              "    <tr>\n",
              "      <th>2</th>\n",
              "      <td>114173</td>\n",
              "      <td>İstanbul Avcılar'da E-5 üzerinde bir yakıt tan...</td>\n",
              "      <td>video</td>\n",
              "    </tr>\n",
              "    <tr>\n",
              "      <th>3</th>\n",
              "      <td>458380</td>\n",
              "      <td>CNN Türk muhabiri emniyet kemeri haberi yapmak...</td>\n",
              "      <td>video</td>\n",
              "    </tr>\n",
              "    <tr>\n",
              "      <th>4</th>\n",
              "      <td>287566</td>\n",
              "      <td>\\n\\n\\n \\nCumhurbaşkanı Gül yasama yılını açark...</td>\n",
              "      <td>yazarlar</td>\n",
              "    </tr>\n",
              "    <tr>\n",
              "      <th>...</th>\n",
              "      <td>...</td>\n",
              "      <td>...</td>\n",
              "      <td>...</td>\n",
              "    </tr>\n",
              "    <tr>\n",
              "      <th>1994</th>\n",
              "      <td>51087</td>\n",
              "      <td>Almanya'nın Köln kentinde, Köln Türkiye Gençli...</td>\n",
              "      <td>video</td>\n",
              "    </tr>\n",
              "    <tr>\n",
              "      <th>1995</th>\n",
              "      <td>318095</td>\n",
              "      <td>Turkish Airlines Euroleague'deki temsilcilerim...</td>\n",
              "      <td>spor</td>\n",
              "    </tr>\n",
              "    <tr>\n",
              "      <th>1996</th>\n",
              "      <td>283607</td>\n",
              "      <td>Akıl Oyunları filmine ilham veren ünlü matemat...</td>\n",
              "      <td>dunya</td>\n",
              "    </tr>\n",
              "    <tr>\n",
              "      <th>1997</th>\n",
              "      <td>244760</td>\n",
              "      <td>Eski ÖSYM Başkanı Ali Demir KPSS soruşturması ...</td>\n",
              "      <td>turkiye</td>\n",
              "    </tr>\n",
              "    <tr>\n",
              "      <th>1998</th>\n",
              "      <td>561235</td>\n",
              "      <td>Atatürk Havalimanı katliamından sonra bir gün ...</td>\n",
              "      <td>yazarlar</td>\n",
              "    </tr>\n",
              "  </tbody>\n",
              "</table>\n",
              "<p>1999 rows × 3 columns</p>\n",
              "</div>"
            ],
            "text/plain": [
              "          id                                               text     label\n",
              "0     416549  \"Filmimde oynadı ama 32 yıldır görmüyordum abi...     video\n",
              "1     462801  Katalonya'nın yeni Başkanı Carles Puigdemont, ...     dunya\n",
              "2     114173  İstanbul Avcılar'da E-5 üzerinde bir yakıt tan...     video\n",
              "3     458380  CNN Türk muhabiri emniyet kemeri haberi yapmak...     video\n",
              "4     287566  \\n\\n\\n \\nCumhurbaşkanı Gül yasama yılını açark...  yazarlar\n",
              "...      ...                                                ...       ...\n",
              "1994   51087  Almanya'nın Köln kentinde, Köln Türkiye Gençli...     video\n",
              "1995  318095  Turkish Airlines Euroleague'deki temsilcilerim...      spor\n",
              "1996  283607  Akıl Oyunları filmine ilham veren ünlü matemat...     dunya\n",
              "1997  244760  Eski ÖSYM Başkanı Ali Demir KPSS soruşturması ...   turkiye\n",
              "1998  561235  Atatürk Havalimanı katliamından sonra bir gün ...  yazarlar\n",
              "\n",
              "[1999 rows x 3 columns]"
            ]
          },
          "metadata": {
            "tags": []
          },
          "execution_count": 53
        }
      ]
    },
    {
      "cell_type": "markdown",
      "metadata": {
        "id": "o_Rh1QgtSODI"
      },
      "source": [
        "## Metadata about the dataset"
      ]
    },
    {
      "cell_type": "markdown",
      "metadata": {
        "id": "fIOgPOhmSYRV"
      },
      "source": [
        "###Train Data"
      ]
    },
    {
      "cell_type": "code",
      "metadata": {
        "colab": {
          "base_uri": "https://localhost:8080/"
        },
        "id": "mWth_ZncSV9e",
        "outputId": "765af6f5-9067-4c7a-f26a-000dfc6f87c5"
      },
      "source": [
        "train_df.info()"
      ],
      "execution_count": null,
      "outputs": [
        {
          "output_type": "stream",
          "text": [
            "<class 'pandas.core.frame.DataFrame'>\n",
            "Int64Index: 8000 entries, 0 to 7999\n",
            "Data columns (total 3 columns):\n",
            " #   Column  Non-Null Count  Dtype \n",
            "---  ------  --------------  ----- \n",
            " 0   id      8000 non-null   int64 \n",
            " 1   text    8000 non-null   object\n",
            " 2   label   8000 non-null   object\n",
            "dtypes: int64(1), object(2)\n",
            "memory usage: 250.0+ KB\n"
          ],
          "name": "stdout"
        }
      ]
    },
    {
      "cell_type": "code",
      "metadata": {
        "colab": {
          "base_uri": "https://localhost:8080/"
        },
        "id": "agAzWnb3Sd3z",
        "outputId": "fdec708d-f0f8-4acb-f28b-949458061ed4"
      },
      "source": [
        "train_df.label.value_counts()"
      ],
      "execution_count": null,
      "outputs": [
        {
          "output_type": "execute_result",
          "data": {
            "text/plain": [
              "turkiye     1630\n",
              "dunya       1606\n",
              "yazarlar    1599\n",
              "spor        1583\n",
              "video       1582\n",
              "Name: label, dtype: int64"
            ]
          },
          "metadata": {
            "tags": []
          },
          "execution_count": 55
        }
      ]
    },
    {
      "cell_type": "code",
      "metadata": {
        "colab": {
          "base_uri": "https://localhost:8080/"
        },
        "id": "5RID-QyQSg85",
        "outputId": "418e9a76-f2b8-4bcc-ceec-f753c09bece9"
      },
      "source": [
        "train_df.isnull().sum(axis = 0)"
      ],
      "execution_count": null,
      "outputs": [
        {
          "output_type": "execute_result",
          "data": {
            "text/plain": [
              "id       0\n",
              "text     0\n",
              "label    0\n",
              "dtype: int64"
            ]
          },
          "metadata": {
            "tags": []
          },
          "execution_count": 56
        }
      ]
    },
    {
      "cell_type": "markdown",
      "metadata": {
        "id": "rQk94OiI7Xek"
      },
      "source": [
        "###Test Data"
      ]
    },
    {
      "cell_type": "code",
      "metadata": {
        "colab": {
          "base_uri": "https://localhost:8080/"
        },
        "id": "VfxLBtge7Xek",
        "outputId": "dca84a4e-2852-41d9-c949-75515c64abdf"
      },
      "source": [
        "test_df.info()"
      ],
      "execution_count": null,
      "outputs": [
        {
          "output_type": "stream",
          "text": [
            "<class 'pandas.core.frame.DataFrame'>\n",
            "Int64Index: 2000 entries, 0 to 1999\n",
            "Data columns (total 3 columns):\n",
            " #   Column  Non-Null Count  Dtype \n",
            "---  ------  --------------  ----- \n",
            " 0   id      2000 non-null   int64 \n",
            " 1   text    2000 non-null   object\n",
            " 2   label   2000 non-null   object\n",
            "dtypes: int64(1), object(2)\n",
            "memory usage: 62.5+ KB\n"
          ],
          "name": "stdout"
        }
      ]
    },
    {
      "cell_type": "code",
      "metadata": {
        "colab": {
          "base_uri": "https://localhost:8080/"
        },
        "id": "Mel7s7uC7Xel",
        "outputId": "4b23ea22-1c98-4639-89b6-81a17d1b021f"
      },
      "source": [
        "test_df.label.value_counts()"
      ],
      "execution_count": null,
      "outputs": [
        {
          "output_type": "execute_result",
          "data": {
            "text/plain": [
              "turkiye     421\n",
              "video       408\n",
              "dunya       395\n",
              "yazarlar    392\n",
              "spor        384\n",
              "Name: label, dtype: int64"
            ]
          },
          "metadata": {
            "tags": []
          },
          "execution_count": 58
        }
      ]
    },
    {
      "cell_type": "code",
      "metadata": {
        "colab": {
          "base_uri": "https://localhost:8080/"
        },
        "id": "XZTU5nOM7Xel",
        "outputId": "99f2b01b-a6b4-4f7d-d541-f6c37db18ccf"
      },
      "source": [
        "test_df.isnull().sum(axis = 0)"
      ],
      "execution_count": null,
      "outputs": [
        {
          "output_type": "execute_result",
          "data": {
            "text/plain": [
              "id       0\n",
              "text     0\n",
              "label    0\n",
              "dtype: int64"
            ]
          },
          "metadata": {
            "tags": []
          },
          "execution_count": 59
        }
      ]
    },
    {
      "cell_type": "markdown",
      "metadata": {
        "id": "EuTl4AyQ7lYf"
      },
      "source": [
        "## Pre-processing"
      ]
    },
    {
      "cell_type": "markdown",
      "metadata": {
        "id": "GmmddFc9pKjz"
      },
      "source": [
        "<img width=\"800\" height=\"400\" src=\"https://thelastbyteblog.files.wordpress.com/2020/06/data-scrubbing-service.gif?w=800\" class=\"attachment-post-thumbnail size-post-thumbnail wp-post-image\" alt=\"\" loading=\"lazy\" data-attachment-id=\"296\" data-permalink=\"https://thelastbyteblog.wordpress.com/2020/06/15/beginners-guide-to-data-preprocessing-in-machine-learning/data-scrubbing-service/\" data-orig-file=\"https://thelastbyteblog.files.wordpress.com/2020/06/data-scrubbing-service.gif\" data-orig-size=\"800,400\" data-comments-opened=\"1\" data-image-meta=\"{&quot;aperture&quot;:&quot;0&quot;,&quot;credit&quot;:&quot;&quot;,&quot;camera&quot;:&quot;&quot;,&quot;caption&quot;:&quot;&quot;,&quot;created_timestamp&quot;:&quot;0&quot;,&quot;copyright&quot;:&quot;&quot;,&quot;focal_length&quot;:&quot;0&quot;,&quot;iso&quot;:&quot;0&quot;,&quot;shutter_speed&quot;:&quot;0&quot;,&quot;title&quot;:&quot;&quot;,&quot;orientation&quot;:&quot;0&quot;}\" data-image-title=\"data-scrubbing-service\" data-image-description=\"\" data-medium-file=\"https://thelastbyteblog.files.wordpress.com/2020/06/data-scrubbing-service.gif?w=300\" data-large-file=\"https://thelastbyteblog.files.wordpress.com/2020/06/data-scrubbing-service.gif?w=750\">"
      ]
    },
    {
      "cell_type": "markdown",
      "metadata": {
        "id": "uXMyqLaN7qmS"
      },
      "source": [
        "There are few options of preprocessing which would allow any ML model to work better. These operations are mainly done on assumptions regarding on the dataset such that the removed words would not have significant effect on identifiying the specific classes.\n",
        "\n",
        "\n",
        "*   Punctuation removal ✔️\n",
        "*   Lower casing ✔️\n",
        "*   Stopwords removal ✔️\n",
        "*   Stemming or lemmatization (no built-in package) ❌\n",
        "*   Unnecessary number removal (Capture by regex) ✔️\n",
        "\n"
      ]
    },
    {
      "cell_type": "markdown",
      "metadata": {
        "id": "WibBV0mmC8Tx"
      },
      "source": [
        "Samples from the dataset."
      ]
    },
    {
      "cell_type": "code",
      "metadata": {
        "colab": {
          "base_uri": "https://localhost:8080/"
        },
        "id": "fImX14MpC5B7",
        "outputId": "f8f5dbec-e1d5-4b6b-b435-95c54e3d30d4"
      },
      "source": [
        "for index, row in train_df.iterrows():\n",
        "    if(index==5):\n",
        "      break\n",
        "    print(row[1])\n",
        "    print(\"\\n\")"
      ],
      "execution_count": null,
      "outputs": [
        {
          "output_type": "stream",
          "text": [
            "Beşiktaş'ın eski teknik direktörü Slaven Bilic, Türkiye-Hırvatistan maçında yorumculuk yapmak üzere Lig TV ile anlaştı.\n",
            "EURO 2016'nın yayıncı kuruluşlarından biri olan Lig TV, Türkiye'nin D Grubu'nda Hırvatistan ile oynayacağı ilk maç için Slaven Bilic ile anlaşıldığını duyurdu.\n",
            "Beşiktaş'ın eski teknik direktörü Slaven Bilic, 12 Haziran Pazar günü TSİ 16:00'da başlayacak mücadelede yorumcu olacak.\n",
            "Lig TV, Slaven Bilic'in yanı sıra A Milli Takım'ın efsane kalecilerinden Rüştü Reçber'in de bu karşılaşmanın yorumcularından biri olacağını açıkladı.\n",
            "EURO 2008'de Hırvatistan'ın teknik direktörü olan Slaven Bilic, çeyrek finalde Türkiye'ye rakip olmuş ve 120 dakikası 1-1 biten maçta A Milli Takımımıza penaltılarda elenmişti.\n",
            "\n",
            "\n",
            "14 Şubat, Katolik Kilisesi’nin azizlerinden St. Valentine’e adanmış bir gün. “Valentine”in sevgili anlamına gelmesinden olsa gerek “Sevgililer Günü”ne dönüşmüş. 1800’lü yıllarda Amerikalı Esther Howland’ın ilk Sevgililer Günü kartını yollamasıyla yeni bir biçim almış. İlk zamanlar sevgililerin birbirlerine kartlarla mesajlar yollamasını özendiren, günü sevgililerin birlikte geçirmesini sağlayan etkinlikler yapılmış. Hediye alıp verilmeye başlanınca da bir tüketim çılgınlığına dönüştürülmüş. \n",
            " Türkiye’de Sevgililer Günü’nün öncüsü olarak Hıncal Uluç biliniyor. Uluç, Sevgililer Günü’nden ilk kez 1977’de o zamanki Amerikalı eşi vesilesi ile söz etmiş. Ülkemizde 90’lı yıllardan itibaren yaygın olarak kutlanmaya başlamış. Anneler ya da Babalar Günü gibi tüketimi özendirmek amacıyla desteklenen bir gün. Sevgililer Günü’ne iki temel eleştiri var. Biri, Hıristiyan kökenli olduğu için Müslümanlarca kutlanmasının doğru olmadığı. Sevgililer Günü denince akla St. Valentine gelmiyor. Zaten 469 yılında Papa’nın ilan ettiği bu anma 1969’da kilise takviminden çıkarılmış. Yani 14 Şubat’ın dini niteliği kalmamış. \n",
            " İkinci eleştiri Sevgililer Günü’nün amacının sadece tüketimi özendirmek olduğu düşüncesi. Haklı bir eleştiri, bugünün kutlanmasının tüketimi özendirmek ve artırmaktan başka bir amacı yok.\n",
            " 14 Şubat’ta sadece Sevgililer Günü kutlanmıyor. Uluslararası Kitap Değişimi Günü, Kütüphane Severler Günü ve Dünya Öykü Günü de 14 Şubat’ta kutlanan günlerden. \n",
            " Dünya Öykü Günü’nü düşünüp öneren öykücü Özcan Karabulut’tur.Özcan Karabulut iyi bir öykücü olmasının yanında bir öykü sevdalısıdır, öykünün daha çok okunup benimsenmesi için elinden gelen her şeyi yapar. Öykü dergileri yayıncılığı ile başlayan çabası, Ankara Öykü Günleri ile gelişti, sonunda da “Dünya Öykü Günü” önerisine vardı. \n",
            " Özcan Karabulut Türkiye’de bugünün kutlanmasına önayak olmakla kalmadı, dünya çapında kutlanması için de çalışmalar yaptı. 2003 yılında Türkiye PEN’in önerisi ile Uluslararası PEN Genel Kurulu’nda 14 Şubat “Dünya Öykü Günü” olarak kabul edildi. İkinci ve önemli aşama günün UNESCO tarafından kabul edilmesiydi. Ama UNESCO Genel Kurulu’nda 14 Şubat’ın “Dünya Öykü Günü” olması önerisi reddedilmiş.\n",
            " Öykü ülkemizde okunan, sevilen bir tür olmasına karşın dünyada bizdeki kadar yaygın değil. Öykü edebiyat dergilerinde yayımlanan bir tür olarak kalıyor, öykü kitaplarının sayısı az. 14 Şubat “Dünya Öykü Günü” olarak UNESCO tarafından benimsenip dünyaya duyurulsaydı sanırım günün öyküye ilginin artmasında önemli bir katkısı olacaktı. \n",
            " Bu yıl Özcan Karabulut ve öykücü arkadaşları kurumsallaşmada önemli bir adım atarak Ankara Öykü Günleri Derneği’ni kurdu. “14 Şubat Dünyanın Öyküsü” dergisi yayımlanmaya başlandı. Dünya Öykü Günü kutlamalarında da dernek önemli rol yüklenmiş.\n",
            "“Yaşadığınız öyküler dilerim güzel bitsin!” diye noktalanan 2014 Dünya Öykü Günü Bildirgesi’ni usta öykücü Necati Tosuner yazmış. Başta Ankara olmak üzere Bursa, Erzurum, Kayseri, İzmir, Denizli, Eskişehir ve Konya gibi şehirlerde kutlamalar yapılmış. Önceki yıllarda Türkiye PEN’in organizasyonu ile İstanbul’da da kutlamalar yapılıyordu. Bu yıl ise İstanbul’da bir etkinlik yoktu. Sadece Kadıköy’de öyküseverler bir araya gelip balonların ucuna bağlanmış öyküleri sokaktan geçenlere dağıtmış. Bence Ankara Öykü Günleri Derneği’nin çabasına Türkiye PEN ve diğer yazar örgütleri de katkıda bulunmalı. Ancak her yerde birbirinden bağımsız kutlamalar yapıldığında “Dünya Öykü Günü” kalıcılaşacaktır.\n",
            "\n",
            "\n",
            "İstanbul Kağıthane’de gece yarısı sokakta oyun oynayan çocuklar, ölümden döndü. Kontrolden çıkan bir kamyonet, kaldırımı aşıp binanın duvarındaki doğalgaz kutusuna çarptı. 2 kişinin yaralandığı kazada şoför kaçarken arkadaşına tekme atarak kaçan çocuğun saniyelerle ölümden kurtulduğu o an güvenlik kameralarına yansıdı.\n",
            "\n",
            "\n",
            "Ziraat Türkiye Kupası maçında deplasmanda Amedspor'un Bursaspor'u 2-1 yenerek kupa dışına itmesi, Diyarbakır'da sevinçle gösterileriyle karşılandı. Tezehürat ve yeşil kırmızı flamalarla Ofis'te toplanan ve Gevran Caddesi'ne yürümek isteyen taraftarlara polis, tazyikli su ve gaz bombalarıyla müdahale etti. Ofis semtinde güvenlik güçleri ile Amedspor taraftarları arasında çıkan olaylar ara sokaklarda kovalamaca şeklinde devam etti.\n",
            "\n",
            "\n",
            "Eski Brezilyalı yıldız oyuncu Ronaldo, Brezilya'nın evsahipliğinde düzenlenecek 2014 FIFA Dünya Kupası'nı \"Sambacı\"ların kazanması halinde Neymar'ın turnuvanın yıldızı olabileceğini iddia etti.\n",
            "İspanyol basınına konuşan Ronaldo, Neymar'ın Barcelona'ya transferinin ardından futbolunu geliştirdiğini belirterek, \"Geçen sezon Konfederasyonlar Kupası'nda izlediğim Brezilya'nın ardından iyimserim. Genç bir takımları var ve Neymar kalitesiyle takımın en iyi oyuncusu\" dedi.\n",
            "Neymar'ın Barcelona'da Lionel Messi'nin ardında kaldığını belirten Ronaldo, \"Barcelona'da şimdilik Messi'nin yardımcılığını yapıyor. Ama o çok daha fazlası ve ülkemizin heyecan verici umudu\" şeklinde konuştu.\n",
            "\"Brezilya turnuvayı kazanırsa Neymar da turnuvanın yıldızı seçilebilir\" diyen Ronaldo, 22 yaşındaki oyuncuya duyduğu güvenin önümüzdeki turnuvada boşa çıkmayacağından emin olduğunu vurguladı.\n",
            "Turnuva öncesinde statların yetişememesi, güvenlik gibi konular için boşuna endişe duyulduğunu savunan Ronaldo, \"Gelmiş geçmiş en iyi Dünya Kupası bu olacak. Önümüzde birkaç ay var ve bazı şüpheler olması normal. Aynı şey kış olimpiyatları öncesi Soçi'de yaşanmıştı\" değerlendirmesinde bulundu.\n",
            "Neymar'ın Brezilya formasıyla 46 maçta 27 golü bulunuyor.\n",
            "\n",
            "\n"
          ],
          "name": "stdout"
        }
      ]
    },
    {
      "cell_type": "markdown",
      "metadata": {
        "id": "dy7nAtTv-uk3"
      },
      "source": [
        "### Punctuation removal"
      ]
    },
    {
      "cell_type": "markdown",
      "metadata": {
        "id": "GRYzfL97okYt"
      },
      "source": [
        "<img class=\"img-responsive\" src=\"https://www.thelearninglab.com.sg//content/dam/tll/blog-content/2019/aug/why-proper-punctuation-matters/Why-Proper-Punctuation-Matters_Blog-Header-1_2.gif\">"
      ]
    },
    {
      "cell_type": "code",
      "metadata": {
        "colab": {
          "base_uri": "https://localhost:8080/",
          "height": 419
        },
        "id": "i1S9Pf-HAsIn",
        "outputId": "daf447bd-f439-440e-c8c8-1550c41198ad"
      },
      "source": [
        "train_df.head(-1)"
      ],
      "execution_count": null,
      "outputs": [
        {
          "output_type": "execute_result",
          "data": {
            "text/html": [
              "<div>\n",
              "<style scoped>\n",
              "    .dataframe tbody tr th:only-of-type {\n",
              "        vertical-align: middle;\n",
              "    }\n",
              "\n",
              "    .dataframe tbody tr th {\n",
              "        vertical-align: top;\n",
              "    }\n",
              "\n",
              "    .dataframe thead th {\n",
              "        text-align: right;\n",
              "    }\n",
              "</style>\n",
              "<table border=\"1\" class=\"dataframe\">\n",
              "  <thead>\n",
              "    <tr style=\"text-align: right;\">\n",
              "      <th></th>\n",
              "      <th>id</th>\n",
              "      <th>text</th>\n",
              "      <th>label</th>\n",
              "    </tr>\n",
              "  </thead>\n",
              "  <tbody>\n",
              "    <tr>\n",
              "      <th>0</th>\n",
              "      <td>547530</td>\n",
              "      <td>Beşiktaş'ın eski teknik direktörü Slaven Bilic...</td>\n",
              "      <td>spor</td>\n",
              "    </tr>\n",
              "    <tr>\n",
              "      <th>1</th>\n",
              "      <td>42683</td>\n",
              "      <td>14 Şubat, Katolik Kilisesi’nin azizlerinden St...</td>\n",
              "      <td>yazarlar</td>\n",
              "    </tr>\n",
              "    <tr>\n",
              "      <th>2</th>\n",
              "      <td>770925</td>\n",
              "      <td>İstanbul Kağıthane’de gece yarısı sokakta oyun...</td>\n",
              "      <td>video</td>\n",
              "    </tr>\n",
              "    <tr>\n",
              "      <th>3</th>\n",
              "      <td>473224</td>\n",
              "      <td>Ziraat Türkiye Kupası maçında deplasmanda Amed...</td>\n",
              "      <td>video</td>\n",
              "    </tr>\n",
              "    <tr>\n",
              "      <th>4</th>\n",
              "      <td>44833</td>\n",
              "      <td>Eski Brezilyalı yıldız oyuncu Ronaldo, Brezily...</td>\n",
              "      <td>spor</td>\n",
              "    </tr>\n",
              "    <tr>\n",
              "      <th>...</th>\n",
              "      <td>...</td>\n",
              "      <td>...</td>\n",
              "      <td>...</td>\n",
              "    </tr>\n",
              "    <tr>\n",
              "      <th>7994</th>\n",
              "      <td>812733</td>\n",
              "      <td>Çanakkale’den “Herkes İçin Adalet” diye seslen...</td>\n",
              "      <td>yazarlar</td>\n",
              "    </tr>\n",
              "    <tr>\n",
              "      <th>7995</th>\n",
              "      <td>786591</td>\n",
              "      <td>Eskişehirspor Yönetimi, teknik direktörlük gör...</td>\n",
              "      <td>spor</td>\n",
              "    </tr>\n",
              "    <tr>\n",
              "      <th>7996</th>\n",
              "      <td>144257</td>\n",
              "      <td>UEFA Disiplin Kurulu, Borussia Dortmund-Galata...</td>\n",
              "      <td>spor</td>\n",
              "    </tr>\n",
              "    <tr>\n",
              "      <th>7997</th>\n",
              "      <td>675701</td>\n",
              "      <td>Rusya Federasyon Konseyi Uluslararası İlişkile...</td>\n",
              "      <td>dunya</td>\n",
              "    </tr>\n",
              "    <tr>\n",
              "      <th>7998</th>\n",
              "      <td>680725</td>\n",
              "      <td>Rusya’nın BM Büyükelçisi Vitaly Çurkin New Yor...</td>\n",
              "      <td>dunya</td>\n",
              "    </tr>\n",
              "  </tbody>\n",
              "</table>\n",
              "<p>7999 rows × 3 columns</p>\n",
              "</div>"
            ],
            "text/plain": [
              "          id                                               text     label\n",
              "0     547530  Beşiktaş'ın eski teknik direktörü Slaven Bilic...      spor\n",
              "1      42683  14 Şubat, Katolik Kilisesi’nin azizlerinden St...  yazarlar\n",
              "2     770925  İstanbul Kağıthane’de gece yarısı sokakta oyun...     video\n",
              "3     473224  Ziraat Türkiye Kupası maçında deplasmanda Amed...     video\n",
              "4      44833  Eski Brezilyalı yıldız oyuncu Ronaldo, Brezily...      spor\n",
              "...      ...                                                ...       ...\n",
              "7994  812733  Çanakkale’den “Herkes İçin Adalet” diye seslen...  yazarlar\n",
              "7995  786591  Eskişehirspor Yönetimi, teknik direktörlük gör...      spor\n",
              "7996  144257  UEFA Disiplin Kurulu, Borussia Dortmund-Galata...      spor\n",
              "7997  675701  Rusya Federasyon Konseyi Uluslararası İlişkile...     dunya\n",
              "7998  680725  Rusya’nın BM Büyükelçisi Vitaly Çurkin New Yor...     dunya\n",
              "\n",
              "[7999 rows x 3 columns]"
            ]
          },
          "metadata": {
            "tags": []
          },
          "execution_count": 61
        }
      ]
    },
    {
      "cell_type": "code",
      "metadata": {
        "colab": {
          "base_uri": "https://localhost:8080/",
          "height": 419
        },
        "id": "c0aUulJp-uAd",
        "outputId": "5e93876e-c499-4036-a5cb-e001ca98da01"
      },
      "source": [
        "train_df[\"text\"]=train_df[\"text\"].str.replace('[{}]'.format(string.punctuation), '')\n",
        "train_df.head(-1)"
      ],
      "execution_count": null,
      "outputs": [
        {
          "output_type": "execute_result",
          "data": {
            "text/html": [
              "<div>\n",
              "<style scoped>\n",
              "    .dataframe tbody tr th:only-of-type {\n",
              "        vertical-align: middle;\n",
              "    }\n",
              "\n",
              "    .dataframe tbody tr th {\n",
              "        vertical-align: top;\n",
              "    }\n",
              "\n",
              "    .dataframe thead th {\n",
              "        text-align: right;\n",
              "    }\n",
              "</style>\n",
              "<table border=\"1\" class=\"dataframe\">\n",
              "  <thead>\n",
              "    <tr style=\"text-align: right;\">\n",
              "      <th></th>\n",
              "      <th>id</th>\n",
              "      <th>text</th>\n",
              "      <th>label</th>\n",
              "    </tr>\n",
              "  </thead>\n",
              "  <tbody>\n",
              "    <tr>\n",
              "      <th>0</th>\n",
              "      <td>547530</td>\n",
              "      <td>Beşiktaşın eski teknik direktörü Slaven Bilic ...</td>\n",
              "      <td>spor</td>\n",
              "    </tr>\n",
              "    <tr>\n",
              "      <th>1</th>\n",
              "      <td>42683</td>\n",
              "      <td>14 Şubat Katolik Kilisesi’nin azizlerinden St ...</td>\n",
              "      <td>yazarlar</td>\n",
              "    </tr>\n",
              "    <tr>\n",
              "      <th>2</th>\n",
              "      <td>770925</td>\n",
              "      <td>İstanbul Kağıthane’de gece yarısı sokakta oyun...</td>\n",
              "      <td>video</td>\n",
              "    </tr>\n",
              "    <tr>\n",
              "      <th>3</th>\n",
              "      <td>473224</td>\n",
              "      <td>Ziraat Türkiye Kupası maçında deplasmanda Amed...</td>\n",
              "      <td>video</td>\n",
              "    </tr>\n",
              "    <tr>\n",
              "      <th>4</th>\n",
              "      <td>44833</td>\n",
              "      <td>Eski Brezilyalı yıldız oyuncu Ronaldo Brezilya...</td>\n",
              "      <td>spor</td>\n",
              "    </tr>\n",
              "    <tr>\n",
              "      <th>...</th>\n",
              "      <td>...</td>\n",
              "      <td>...</td>\n",
              "      <td>...</td>\n",
              "    </tr>\n",
              "    <tr>\n",
              "      <th>7994</th>\n",
              "      <td>812733</td>\n",
              "      <td>Çanakkale’den “Herkes İçin Adalet” diye seslen...</td>\n",
              "      <td>yazarlar</td>\n",
              "    </tr>\n",
              "    <tr>\n",
              "      <th>7995</th>\n",
              "      <td>786591</td>\n",
              "      <td>Eskişehirspor Yönetimi teknik direktörlük göre...</td>\n",
              "      <td>spor</td>\n",
              "    </tr>\n",
              "    <tr>\n",
              "      <th>7996</th>\n",
              "      <td>144257</td>\n",
              "      <td>UEFA Disiplin Kurulu Borussia DortmundGalatasa...</td>\n",
              "      <td>spor</td>\n",
              "    </tr>\n",
              "    <tr>\n",
              "      <th>7997</th>\n",
              "      <td>675701</td>\n",
              "      <td>Rusya Federasyon Konseyi Uluslararası İlişkile...</td>\n",
              "      <td>dunya</td>\n",
              "    </tr>\n",
              "    <tr>\n",
              "      <th>7998</th>\n",
              "      <td>680725</td>\n",
              "      <td>Rusya’nın BM Büyükelçisi Vitaly Çurkin New Yor...</td>\n",
              "      <td>dunya</td>\n",
              "    </tr>\n",
              "  </tbody>\n",
              "</table>\n",
              "<p>7999 rows × 3 columns</p>\n",
              "</div>"
            ],
            "text/plain": [
              "          id                                               text     label\n",
              "0     547530  Beşiktaşın eski teknik direktörü Slaven Bilic ...      spor\n",
              "1      42683  14 Şubat Katolik Kilisesi’nin azizlerinden St ...  yazarlar\n",
              "2     770925  İstanbul Kağıthane’de gece yarısı sokakta oyun...     video\n",
              "3     473224  Ziraat Türkiye Kupası maçında deplasmanda Amed...     video\n",
              "4      44833  Eski Brezilyalı yıldız oyuncu Ronaldo Brezilya...      spor\n",
              "...      ...                                                ...       ...\n",
              "7994  812733  Çanakkale’den “Herkes İçin Adalet” diye seslen...  yazarlar\n",
              "7995  786591  Eskişehirspor Yönetimi teknik direktörlük göre...      spor\n",
              "7996  144257  UEFA Disiplin Kurulu Borussia DortmundGalatasa...      spor\n",
              "7997  675701  Rusya Federasyon Konseyi Uluslararası İlişkile...     dunya\n",
              "7998  680725  Rusya’nın BM Büyükelçisi Vitaly Çurkin New Yor...     dunya\n",
              "\n",
              "[7999 rows x 3 columns]"
            ]
          },
          "metadata": {
            "tags": []
          },
          "execution_count": 62
        }
      ]
    },
    {
      "cell_type": "code",
      "metadata": {
        "colab": {
          "base_uri": "https://localhost:8080/",
          "height": 419
        },
        "id": "f7a9UsGazqy6",
        "outputId": "3b5960a6-4978-41e3-d5a3-6830b6a08004"
      },
      "source": [
        "test_df[\"text\"]=test_df[\"text\"].str.replace('[{}]'.format(string.punctuation), '')\n",
        "test_df.head(-1)"
      ],
      "execution_count": null,
      "outputs": [
        {
          "output_type": "execute_result",
          "data": {
            "text/html": [
              "<div>\n",
              "<style scoped>\n",
              "    .dataframe tbody tr th:only-of-type {\n",
              "        vertical-align: middle;\n",
              "    }\n",
              "\n",
              "    .dataframe tbody tr th {\n",
              "        vertical-align: top;\n",
              "    }\n",
              "\n",
              "    .dataframe thead th {\n",
              "        text-align: right;\n",
              "    }\n",
              "</style>\n",
              "<table border=\"1\" class=\"dataframe\">\n",
              "  <thead>\n",
              "    <tr style=\"text-align: right;\">\n",
              "      <th></th>\n",
              "      <th>id</th>\n",
              "      <th>text</th>\n",
              "      <th>label</th>\n",
              "    </tr>\n",
              "  </thead>\n",
              "  <tbody>\n",
              "    <tr>\n",
              "      <th>0</th>\n",
              "      <td>416549</td>\n",
              "      <td>Filmimde oynadı ama 32 yıldır görmüyordum abim...</td>\n",
              "      <td>video</td>\n",
              "    </tr>\n",
              "    <tr>\n",
              "      <th>1</th>\n",
              "      <td>462801</td>\n",
              "      <td>Katalonyanın yeni Başkanı Carles Puigdemont re...</td>\n",
              "      <td>dunya</td>\n",
              "    </tr>\n",
              "    <tr>\n",
              "      <th>2</th>\n",
              "      <td>114173</td>\n",
              "      <td>İstanbul Avcılarda E5 üzerinde bir yakıt tanke...</td>\n",
              "      <td>video</td>\n",
              "    </tr>\n",
              "    <tr>\n",
              "      <th>3</th>\n",
              "      <td>458380</td>\n",
              "      <td>CNN Türk muhabiri emniyet kemeri haberi yapmak...</td>\n",
              "      <td>video</td>\n",
              "    </tr>\n",
              "    <tr>\n",
              "      <th>4</th>\n",
              "      <td>287566</td>\n",
              "      <td>\\n\\n\\n \\nCumhurbaşkanı Gül yasama yılını açark...</td>\n",
              "      <td>yazarlar</td>\n",
              "    </tr>\n",
              "    <tr>\n",
              "      <th>...</th>\n",
              "      <td>...</td>\n",
              "      <td>...</td>\n",
              "      <td>...</td>\n",
              "    </tr>\n",
              "    <tr>\n",
              "      <th>1994</th>\n",
              "      <td>51087</td>\n",
              "      <td>Almanyanın Köln kentinde Köln Türkiye Gençlik ...</td>\n",
              "      <td>video</td>\n",
              "    </tr>\n",
              "    <tr>\n",
              "      <th>1995</th>\n",
              "      <td>318095</td>\n",
              "      <td>Turkish Airlines Euroleaguedeki temsilcilerimi...</td>\n",
              "      <td>spor</td>\n",
              "    </tr>\n",
              "    <tr>\n",
              "      <th>1996</th>\n",
              "      <td>283607</td>\n",
              "      <td>Akıl Oyunları filmine ilham veren ünlü matemat...</td>\n",
              "      <td>dunya</td>\n",
              "    </tr>\n",
              "    <tr>\n",
              "      <th>1997</th>\n",
              "      <td>244760</td>\n",
              "      <td>Eski ÖSYM Başkanı Ali Demir KPSS soruşturması ...</td>\n",
              "      <td>turkiye</td>\n",
              "    </tr>\n",
              "    <tr>\n",
              "      <th>1998</th>\n",
              "      <td>561235</td>\n",
              "      <td>Atatürk Havalimanı katliamından sonra bir gün ...</td>\n",
              "      <td>yazarlar</td>\n",
              "    </tr>\n",
              "  </tbody>\n",
              "</table>\n",
              "<p>1999 rows × 3 columns</p>\n",
              "</div>"
            ],
            "text/plain": [
              "          id                                               text     label\n",
              "0     416549  Filmimde oynadı ama 32 yıldır görmüyordum abim...     video\n",
              "1     462801  Katalonyanın yeni Başkanı Carles Puigdemont re...     dunya\n",
              "2     114173  İstanbul Avcılarda E5 üzerinde bir yakıt tanke...     video\n",
              "3     458380  CNN Türk muhabiri emniyet kemeri haberi yapmak...     video\n",
              "4     287566  \\n\\n\\n \\nCumhurbaşkanı Gül yasama yılını açark...  yazarlar\n",
              "...      ...                                                ...       ...\n",
              "1994   51087  Almanyanın Köln kentinde Köln Türkiye Gençlik ...     video\n",
              "1995  318095  Turkish Airlines Euroleaguedeki temsilcilerimi...      spor\n",
              "1996  283607  Akıl Oyunları filmine ilham veren ünlü matemat...     dunya\n",
              "1997  244760  Eski ÖSYM Başkanı Ali Demir KPSS soruşturması ...   turkiye\n",
              "1998  561235  Atatürk Havalimanı katliamından sonra bir gün ...  yazarlar\n",
              "\n",
              "[1999 rows x 3 columns]"
            ]
          },
          "metadata": {
            "tags": []
          },
          "execution_count": 63
        }
      ]
    },
    {
      "cell_type": "markdown",
      "metadata": {
        "id": "QsY-zEd4CVmT"
      },
      "source": [
        "###Lower casing"
      ]
    },
    {
      "cell_type": "markdown",
      "metadata": {
        "id": "ar1KuwOOnsN6"
      },
      "source": [
        "<img class=\" lazyloaded\" data-src=\"https://bloopglobal.com/wp-content/uploads/2020/11/interactive-presentation-header-1.gif\" alt=\"\" title=\"interactive-presentation-header\" src=\"https://i.gifer.com/3VXm.gif\">\n"
      ]
    },
    {
      "cell_type": "code",
      "metadata": {
        "colab": {
          "base_uri": "https://localhost:8080/",
          "height": 419
        },
        "id": "GqlHg31UCYf7",
        "outputId": "be6ae784-a75a-4b35-c440-56a16ae9ab27"
      },
      "source": [
        "train_df[\"text\"]=train_df[\"text\"].str.lower()\n",
        "train_df.head(-1)"
      ],
      "execution_count": null,
      "outputs": [
        {
          "output_type": "execute_result",
          "data": {
            "text/html": [
              "<div>\n",
              "<style scoped>\n",
              "    .dataframe tbody tr th:only-of-type {\n",
              "        vertical-align: middle;\n",
              "    }\n",
              "\n",
              "    .dataframe tbody tr th {\n",
              "        vertical-align: top;\n",
              "    }\n",
              "\n",
              "    .dataframe thead th {\n",
              "        text-align: right;\n",
              "    }\n",
              "</style>\n",
              "<table border=\"1\" class=\"dataframe\">\n",
              "  <thead>\n",
              "    <tr style=\"text-align: right;\">\n",
              "      <th></th>\n",
              "      <th>id</th>\n",
              "      <th>text</th>\n",
              "      <th>label</th>\n",
              "    </tr>\n",
              "  </thead>\n",
              "  <tbody>\n",
              "    <tr>\n",
              "      <th>0</th>\n",
              "      <td>547530</td>\n",
              "      <td>beşiktaşın eski teknik direktörü slaven bilic ...</td>\n",
              "      <td>spor</td>\n",
              "    </tr>\n",
              "    <tr>\n",
              "      <th>1</th>\n",
              "      <td>42683</td>\n",
              "      <td>14 şubat katolik kilisesi’nin azizlerinden st ...</td>\n",
              "      <td>yazarlar</td>\n",
              "    </tr>\n",
              "    <tr>\n",
              "      <th>2</th>\n",
              "      <td>770925</td>\n",
              "      <td>i̇stanbul kağıthane’de gece yarısı sokakta oyu...</td>\n",
              "      <td>video</td>\n",
              "    </tr>\n",
              "    <tr>\n",
              "      <th>3</th>\n",
              "      <td>473224</td>\n",
              "      <td>ziraat türkiye kupası maçında deplasmanda amed...</td>\n",
              "      <td>video</td>\n",
              "    </tr>\n",
              "    <tr>\n",
              "      <th>4</th>\n",
              "      <td>44833</td>\n",
              "      <td>eski brezilyalı yıldız oyuncu ronaldo brezilya...</td>\n",
              "      <td>spor</td>\n",
              "    </tr>\n",
              "    <tr>\n",
              "      <th>...</th>\n",
              "      <td>...</td>\n",
              "      <td>...</td>\n",
              "      <td>...</td>\n",
              "    </tr>\n",
              "    <tr>\n",
              "      <th>7994</th>\n",
              "      <td>812733</td>\n",
              "      <td>çanakkale’den “herkes i̇çin adalet” diye sesle...</td>\n",
              "      <td>yazarlar</td>\n",
              "    </tr>\n",
              "    <tr>\n",
              "      <th>7995</th>\n",
              "      <td>786591</td>\n",
              "      <td>eskişehirspor yönetimi teknik direktörlük göre...</td>\n",
              "      <td>spor</td>\n",
              "    </tr>\n",
              "    <tr>\n",
              "      <th>7996</th>\n",
              "      <td>144257</td>\n",
              "      <td>uefa disiplin kurulu borussia dortmundgalatasa...</td>\n",
              "      <td>spor</td>\n",
              "    </tr>\n",
              "    <tr>\n",
              "      <th>7997</th>\n",
              "      <td>675701</td>\n",
              "      <td>rusya federasyon konseyi uluslararası i̇lişkil...</td>\n",
              "      <td>dunya</td>\n",
              "    </tr>\n",
              "    <tr>\n",
              "      <th>7998</th>\n",
              "      <td>680725</td>\n",
              "      <td>rusya’nın bm büyükelçisi vitaly çurkin new yor...</td>\n",
              "      <td>dunya</td>\n",
              "    </tr>\n",
              "  </tbody>\n",
              "</table>\n",
              "<p>7999 rows × 3 columns</p>\n",
              "</div>"
            ],
            "text/plain": [
              "          id                                               text     label\n",
              "0     547530  beşiktaşın eski teknik direktörü slaven bilic ...      spor\n",
              "1      42683  14 şubat katolik kilisesi’nin azizlerinden st ...  yazarlar\n",
              "2     770925  i̇stanbul kağıthane’de gece yarısı sokakta oyu...     video\n",
              "3     473224  ziraat türkiye kupası maçında deplasmanda amed...     video\n",
              "4      44833  eski brezilyalı yıldız oyuncu ronaldo brezilya...      spor\n",
              "...      ...                                                ...       ...\n",
              "7994  812733  çanakkale’den “herkes i̇çin adalet” diye sesle...  yazarlar\n",
              "7995  786591  eskişehirspor yönetimi teknik direktörlük göre...      spor\n",
              "7996  144257  uefa disiplin kurulu borussia dortmundgalatasa...      spor\n",
              "7997  675701  rusya federasyon konseyi uluslararası i̇lişkil...     dunya\n",
              "7998  680725  rusya’nın bm büyükelçisi vitaly çurkin new yor...     dunya\n",
              "\n",
              "[7999 rows x 3 columns]"
            ]
          },
          "metadata": {
            "tags": []
          },
          "execution_count": 64
        }
      ]
    },
    {
      "cell_type": "code",
      "metadata": {
        "colab": {
          "base_uri": "https://localhost:8080/",
          "height": 419
        },
        "id": "fS1DKNKPzxSs",
        "outputId": "0b153657-5711-45a7-f353-0e20d466f873"
      },
      "source": [
        "test_df[\"text\"]=test_df[\"text\"].str.lower()\n",
        "test_df.head(-1)"
      ],
      "execution_count": null,
      "outputs": [
        {
          "output_type": "execute_result",
          "data": {
            "text/html": [
              "<div>\n",
              "<style scoped>\n",
              "    .dataframe tbody tr th:only-of-type {\n",
              "        vertical-align: middle;\n",
              "    }\n",
              "\n",
              "    .dataframe tbody tr th {\n",
              "        vertical-align: top;\n",
              "    }\n",
              "\n",
              "    .dataframe thead th {\n",
              "        text-align: right;\n",
              "    }\n",
              "</style>\n",
              "<table border=\"1\" class=\"dataframe\">\n",
              "  <thead>\n",
              "    <tr style=\"text-align: right;\">\n",
              "      <th></th>\n",
              "      <th>id</th>\n",
              "      <th>text</th>\n",
              "      <th>label</th>\n",
              "    </tr>\n",
              "  </thead>\n",
              "  <tbody>\n",
              "    <tr>\n",
              "      <th>0</th>\n",
              "      <td>416549</td>\n",
              "      <td>filmimde oynadı ama 32 yıldır görmüyordum abim...</td>\n",
              "      <td>video</td>\n",
              "    </tr>\n",
              "    <tr>\n",
              "      <th>1</th>\n",
              "      <td>462801</td>\n",
              "      <td>katalonyanın yeni başkanı carles puigdemont re...</td>\n",
              "      <td>dunya</td>\n",
              "    </tr>\n",
              "    <tr>\n",
              "      <th>2</th>\n",
              "      <td>114173</td>\n",
              "      <td>i̇stanbul avcılarda e5 üzerinde bir yakıt tank...</td>\n",
              "      <td>video</td>\n",
              "    </tr>\n",
              "    <tr>\n",
              "      <th>3</th>\n",
              "      <td>458380</td>\n",
              "      <td>cnn türk muhabiri emniyet kemeri haberi yapmak...</td>\n",
              "      <td>video</td>\n",
              "    </tr>\n",
              "    <tr>\n",
              "      <th>4</th>\n",
              "      <td>287566</td>\n",
              "      <td>\\n\\n\\n \\ncumhurbaşkanı gül yasama yılını açark...</td>\n",
              "      <td>yazarlar</td>\n",
              "    </tr>\n",
              "    <tr>\n",
              "      <th>...</th>\n",
              "      <td>...</td>\n",
              "      <td>...</td>\n",
              "      <td>...</td>\n",
              "    </tr>\n",
              "    <tr>\n",
              "      <th>1994</th>\n",
              "      <td>51087</td>\n",
              "      <td>almanyanın köln kentinde köln türkiye gençlik ...</td>\n",
              "      <td>video</td>\n",
              "    </tr>\n",
              "    <tr>\n",
              "      <th>1995</th>\n",
              "      <td>318095</td>\n",
              "      <td>turkish airlines euroleaguedeki temsilcilerimi...</td>\n",
              "      <td>spor</td>\n",
              "    </tr>\n",
              "    <tr>\n",
              "      <th>1996</th>\n",
              "      <td>283607</td>\n",
              "      <td>akıl oyunları filmine ilham veren ünlü matemat...</td>\n",
              "      <td>dunya</td>\n",
              "    </tr>\n",
              "    <tr>\n",
              "      <th>1997</th>\n",
              "      <td>244760</td>\n",
              "      <td>eski ösym başkanı ali demir kpss soruşturması ...</td>\n",
              "      <td>turkiye</td>\n",
              "    </tr>\n",
              "    <tr>\n",
              "      <th>1998</th>\n",
              "      <td>561235</td>\n",
              "      <td>atatürk havalimanı katliamından sonra bir gün ...</td>\n",
              "      <td>yazarlar</td>\n",
              "    </tr>\n",
              "  </tbody>\n",
              "</table>\n",
              "<p>1999 rows × 3 columns</p>\n",
              "</div>"
            ],
            "text/plain": [
              "          id                                               text     label\n",
              "0     416549  filmimde oynadı ama 32 yıldır görmüyordum abim...     video\n",
              "1     462801  katalonyanın yeni başkanı carles puigdemont re...     dunya\n",
              "2     114173  i̇stanbul avcılarda e5 üzerinde bir yakıt tank...     video\n",
              "3     458380  cnn türk muhabiri emniyet kemeri haberi yapmak...     video\n",
              "4     287566  \\n\\n\\n \\ncumhurbaşkanı gül yasama yılını açark...  yazarlar\n",
              "...      ...                                                ...       ...\n",
              "1994   51087  almanyanın köln kentinde köln türkiye gençlik ...     video\n",
              "1995  318095  turkish airlines euroleaguedeki temsilcilerimi...      spor\n",
              "1996  283607  akıl oyunları filmine ilham veren ünlü matemat...     dunya\n",
              "1997  244760  eski ösym başkanı ali demir kpss soruşturması ...   turkiye\n",
              "1998  561235  atatürk havalimanı katliamından sonra bir gün ...  yazarlar\n",
              "\n",
              "[1999 rows x 3 columns]"
            ]
          },
          "metadata": {
            "tags": []
          },
          "execution_count": 65
        }
      ]
    },
    {
      "cell_type": "markdown",
      "metadata": {
        "id": "vjdTx98cPFkC"
      },
      "source": [
        "###Stopwords removal"
      ]
    },
    {
      "cell_type": "markdown",
      "metadata": {
        "id": "NK4QiqvPpqPx"
      },
      "source": [
        "<img class=\" lazyloaded\" data-src=\"https://bloopglobal.com/wp-content/uploads/2020/11/interactive-presentation-header-1.gif\" alt=\"\" title=\"interactive-presentation-header\" src=https://i.gifer.com/UE0b.gif>"
      ]
    },
    {
      "cell_type": "code",
      "metadata": {
        "id": "xUnVybUvPKVi"
      },
      "source": [
        "stopwords = []\n",
        "with open(\"/content/gdrive/MyDrive/CS-445/stopwords-extended\") as s_file:\n",
        "  stopwords = s_file.readlines()"
      ],
      "execution_count": null,
      "outputs": []
    },
    {
      "cell_type": "code",
      "metadata": {
        "id": "wv6OBoc9QE3b"
      },
      "source": [
        "stopwords = [stopword[:-1] for stopword in stopwords]"
      ],
      "execution_count": null,
      "outputs": []
    },
    {
      "cell_type": "code",
      "metadata": {
        "id": "aFb8L9ZzQvSy"
      },
      "source": [
        "train_df[\"text\"]= train_df[\"text\"].apply(lambda x: ' '.join([word for word in x.split() if word not in (stopwords)]))"
      ],
      "execution_count": null,
      "outputs": []
    },
    {
      "cell_type": "code",
      "metadata": {
        "colab": {
          "base_uri": "https://localhost:8080/"
        },
        "id": "cbqe33IPSOum",
        "outputId": "b300199c-e74f-4a7b-e924-d2f3aa74e5de"
      },
      "source": [
        "for index, row in train_df.iterrows():\n",
        "    if(index==5):\n",
        "      break\n",
        "    print(row[1])\n",
        "    print(\"\\n\")"
      ],
      "execution_count": null,
      "outputs": [
        {
          "output_type": "stream",
          "text": [
            "beşiktaşın eski teknik direktörü slaven bilic türkiyehırvatistan maçında yorumculuk lig tv anlaştı euro 2016nın yayıncı kuruluşlarından lig tv türkiyenin d grubunda hırvatistan oynayacağı maç slaven bilic anlaşıldığını duyurdu beşiktaşın eski teknik direktörü slaven bilic 12 haziran pazar günü tsi̇ 1600da başlayacak mücadelede yorumcu olacak lig tv slaven bilicin yanı sıra a milli takımın efsane kalecilerinden rüştü reçberin karşılaşmanın yorumcularından olacağını açıkladı euro 2008de hırvatistanın teknik direktörü slaven bilic çeyrek finalde türkiyeye rakip olmuş 120 dakikası 11 biten maçta a milli takımımıza penaltılarda elenmişti\n",
            "\n",
            "\n",
            "14 şubat katolik kilisesi’nin azizlerinden st valentine’e adanmış gün “valentine”in sevgili anlamına gelmesinden “sevgililer günü”ne dönüşmüş 1800’lü yıllarda amerikalı esther howland’ın sevgililer günü kartını yollamasıyla yeni biçim almış i̇lk zamanlar sevgililerin birbirlerine kartlarla mesajlar yollamasını özendiren günü sevgililerin geçirmesini sağlayan etkinlikler yapılmış hediye alıp verilmeye başlanınca tüketim çılgınlığına dönüştürülmüş türkiye’de sevgililer günü’nün öncüsü hıncal uluç biliniyor uluç sevgililer günü’nden 1977’de zamanki amerikalı eşi vesilesi söz etmiş ülkemizde 90’lı yıllardan yaygın kutlanmaya başlamış anneler babalar günü tüketimi özendirmek amacıyla desteklenen gün sevgililer günü’ne temel eleştiri hıristiyan kökenli müslümanlarca kutlanmasının sevgililer günü denince akla st valentine gelmiyor 469 yılında papa’nın ilan anma 1969’da kilise takviminden çıkarılmış 14 şubat’ın dini niteliği kalmamış i̇kinci eleştiri sevgililer günü’nün amacının tüketimi özendirmek düşüncesi haklı eleştiri bugünün kutlanmasının tüketimi özendirmek artırmaktan başka amacı 14 şubat’ta sevgililer günü kutlanmıyor uluslararası kitap değişimi günü kütüphane severler günü dünya öykü günü 14 şubat’ta kutlanan günlerden dünya öykü günü’nü düşünüp öneren öykücü özcan karabulut’turözcan karabulut öykücü olmasının yanında öykü sevdalısıdır öykünün okunup benimsenmesi elinden gelen yapar öykü dergileri yayıncılığı başlayan çabası ankara öykü günleri gelişti “dünya öykü günü” önerisine özcan karabulut türkiye’de bugünün kutlanmasına önayak olmakla kalmadı dünya çapında kutlanması çalışmalar 2003 yılında türkiye pen’in önerisi uluslararası pen genel kurulu’nda 14 şubat “dünya öykü günü” kabul edildi i̇kinci önemli aşama günün unesco kabul edilmesiydi unesco genel kurulu’nda 14 şubat’ın “dünya öykü günü” önerisi reddedilmiş öykü ülkemizde okunan sevilen tür olmasına dünyada bizdeki yaygın öykü edebiyat dergilerinde yayımlanan tür kalıyor öykü kitaplarının sayısı 14 şubat “dünya öykü günü” unesco benimsenip dünyaya duyurulsaydı sanırım günün öyküye ilginin artmasında önemli katkısı olacaktı yıl özcan karabulut öykücü arkadaşları kurumsallaşmada önemli adım atarak ankara öykü günleri derneği’ni kurdu “14 şubat dünyanın öyküsü” dergisi yayımlanmaya başlandı dünya öykü günü kutlamalarında dernek önemli rol yüklenmiş “yaşadığınız öyküler dilerim güzel bitsin” noktalanan 2014 dünya öykü günü bildirgesi’ni usta öykücü necati tosuner yazmış başta ankara bursa erzurum kayseri i̇zmir denizli eskişehir konya şehirlerde kutlamalar yapılmış önceki yıllarda türkiye pen’in organizasyonu i̇stanbul’da kutlamalar yapılıyordu yıl i̇stanbul’da etkinlik yoktu kadıköy’de öyküseverler araya gelip balonların ucuna bağlanmış öyküleri sokaktan geçenlere dağıtmış bence ankara öykü günleri derneği’nin çabasına türkiye pen yazar örgütleri katkıda bulunmalı yerde birbirinden bağımsız kutlamalar yapıldığında “dünya öykü günü” kalıcılaşacaktır\n",
            "\n",
            "\n",
            "i̇stanbul kağıthane’de gece yarısı sokakta oyun oynayan çocuklar ölümden döndü kontrolden çıkan kamyonet kaldırımı aşıp binanın duvarındaki doğalgaz kutusuna çarptı 2 kişinin yaralandığı kazada şoför kaçarken arkadaşına tekme atarak kaçan çocuğun saniyelerle ölümden kurtulduğu an güvenlik kameralarına yansıdı\n",
            "\n",
            "\n",
            "ziraat türkiye kupası maçında deplasmanda amedsporun bursasporu 21 yenerek kupa dışına itmesi diyarbakırda sevinçle gösterileriyle karşılandı tezehürat yeşil kırmızı flamalarla ofiste toplanan gevran caddesine yürümek isteyen taraftarlara polis tazyikli su gaz bombalarıyla müdahale ofis semtinde güvenlik güçleri amedspor taraftarları arasında çıkan olaylar ara sokaklarda kovalamaca şeklinde devam\n",
            "\n",
            "\n",
            "eski brezilyalı yıldız oyuncu ronaldo brezilyanın evsahipliğinde düzenlenecek 2014 fifa dünya kupasını sambacıların kazanması halinde neymarın turnuvanın yıldızı olabileceğini iddia i̇spanyol basınına konuşan ronaldo neymarın barcelonaya transferinin ardından futbolunu geliştirdiğini belirterek geçen sezon konfederasyonlar kupasında izlediğim brezilyanın ardından iyimserim genç takımları neymar kalitesiyle takımın oyuncusu dedi neymarın barcelonada lionel messinin ardında kaldığını belirten ronaldo barcelonada şimdilik messinin yardımcılığını fazlası ülkemizin heyecan verici umudu şeklinde konuştu brezilya turnuvayı kazanırsa neymar turnuvanın yıldızı seçilebilir diyen ronaldo 22 yaşındaki oyuncuya duyduğu güvenin önümüzdeki turnuvada boşa çıkmayacağından emin vurguladı turnuva öncesinde statların yetişememesi güvenlik konular endişe duyulduğunu savunan ronaldo gelmiş geçmiş dünya kupası olacak önümüzde ay şüpheler normal aynı kış olimpiyatları öncesi soçide yaşanmıştı değerlendirmesinde bulundu neymarın brezilya formasıyla 46 maçta 27 golü bulunuyor\n",
            "\n",
            "\n"
          ],
          "name": "stdout"
        }
      ]
    },
    {
      "cell_type": "code",
      "metadata": {
        "id": "tPg-69rPz6FW"
      },
      "source": [
        "test_df[\"text\"]= test_df[\"text\"].apply(lambda x: ' '.join([word for word in x.split() if word not in (stopwords)]))"
      ],
      "execution_count": null,
      "outputs": []
    },
    {
      "cell_type": "code",
      "metadata": {
        "colab": {
          "base_uri": "https://localhost:8080/"
        },
        "id": "OdE-zf9gz6Fi",
        "outputId": "0f7176aa-ec70-4c2e-a5ac-79c591fcc6c6"
      },
      "source": [
        "for index, row in test_df.iterrows():\n",
        "    if(index==5):\n",
        "      break\n",
        "    print(row[1])\n",
        "    print(\"\\n\")"
      ],
      "execution_count": null,
      "outputs": [
        {
          "output_type": "stream",
          "text": [
            "filmimde oynadı 32 yıldır görmüyordum abimi diyen heyecanlanarak gözyaşlarına boğulan cem yılmazı izleyenler kahkahalara boğuldu\n",
            "\n",
            "\n",
            "katalonyanın yeni başkanı carles puigdemont resmen görevi teslim aldığı törende nazım hikmetin güzel şiirini okudu yunan lider çipras başbakanlıktan istifa ederken aynı şiiri okumuştu i̇spanyanın doğusundaki katalonya özerk yönetiminin başkanı seçilen carles puigdemont resmen görevini teslim aldığı törende konuşmada türk şairi nazım hikmetin şiirinden mısrayı okudu katalonyada bağımsızlık yanlısı girişimlerin devam edeceğini vadeden puigdemont bağımsızlık adımlarına atfen fazla şeyleri yaşadığımız uzun seyahatten geliyoruz yorulmadık konuştu puigdemont nazım hikmetin ünlü güzel deniz gidilmemiş olandır mısrasını okudu katalonya özerk yönetiminin 2010 aralık ayından yana başkanı artur masdan başkanlığı devralan puigdemont katalan halkının umudu yaşam koşularının iyileştirilmesi temek haklar kamu hizmeti çevreye duyulan hassasiyetin garanti edilmesidir gerekli araçlara sahip olduğumuzda mümkün olacaktır şeklinde konuştu kraldan söz etmedi̇ konuşması sırasında i̇spanya kralı 6 felipe i̇spanya anayasasına bağlılıktan şekilde söz etmeyen puigdemont katalan halkının arzusuna katalan meclisindeki temsilcilerine sadakat gösterilmesi gerektiğini dile getirdi katalonya haber ajansının eski genel müdürü katalonya başkanı seçilene girona belediye başkanlığı katalonya bağımsızlık yanlısı belediyeler derneği başkanlığı görevlerini yürüten 53 yaşındaki puigdemont katalonyayı i̇spanyadan ayıracak kurumsal yapılanmayı katalonya merkez bankası maliye gerçekleştirip 18 ay referandumla katalonyada bağımsızlık ilan edilmesini vadediyor i̇spanyol hükümeti zamana katalonyada bağımsızlık yanlısı girişimi anayasa mahkemesi aracılığıyla yasal durdurmakta kararlı vurguluyor yunanistan başbakanı syri̇za lideri aleksis çipras geçtiğimiz ağustos ayında erken seçim yolunu açmak istifa etmişti çipras veda konuşmasının nazım hikmetin güzel şiirini seslendirmişti nazım hikmetin piraye i̇çin şiirler başlığıyla yazdığı şiirdeki bölüm güzel deniz gidilmemiş olanıdır güzel çocuk büyümedi güzel günlerimiz yaşamadıklarımız söylemek istediğim güzel söz söylememiş olduğum sözdür\n",
            "\n",
            "\n",
            "i̇stanbul avcılarda e5 üzerinde yakıt tankerinin çarptığı üst geçit çöktü kazada kişi hayatını kaybetti kişi yaralandı kaza sonrasında olay yerinde tankerden sızıntı paniği yaşanıyor tankerde sıvı glikoz öğrenildi\n",
            "\n",
            "\n",
            "cnn türk muhabiri emniyet kemeri haberi şehirler arası otobüste yolcularla röportaj yolcunun verdiği cevap güldürdü konudaki bilinçsizliğimizi gözler önüne serdi\n",
            "\n",
            "\n",
            "\\n\\n\\n cumhurbaşkanı gül yasama yılını açarken yeni anayasaya ağırlık verdi… “değişmez” değiştirilmesi “teklif edilemez” maddelerini gözeten konuşmasına malum tepkiler yükseliverdi kimilerine demokratlığın gereği cumhuriyetimizin laik demokratik sosyal hukuk devleti “olmaması”nı isteyebilmek\\n laiklikle bütünleşen çağdaş demokratik sosyal hakları koruyan hukuku etmek demokrasi sayılıyor\\n böylelerine “allah akıl fikir versin” demekten başka çare kalmıyor\\n faşizmin anayasası\\n 12 eylül anayasası’nı türkiye’ye yakıştırmıyoruz\\n birincisi düzmece gerçek “faşist darbe”nin ürünü arkasında ölümler işkenceler hukuk dışı sorgulama eziyetler topluma zorla oy verdirilen anayasa\\n oktay akbal 1982’deki halkoylamasından “ben hayır diyeceğim” yazdığı ceza yemedi mi yüzde 90 “evet” böylesi ortamda “oy”un “rengi”ni gösteren “şeffaf zarf”larla elde edilmişti\\n i̇kincisi anayasadaki olumlu maddelere “ancak” denilerek “faşist niyet”lerin eklenmesi… sayısız toplumsal dava “ancak”lı ilavelerle yitirildi madde dünyanın hayran kaldığı 61 anayasası’ndaki maddelerin “tersi” eklemelerle düzenlenmişti\\n dokunulmaması\\t gerekenler\\n şimdi denebilir 12 eylül anayasası “ekleme” hükümlerden arındırılsa 61 anayasası’na yakın düzenleme elde edilebilir yorum yanlış sayılmaz “değişmez” “değiştirilmesi önerilemez” maddelerimizin kabulü şartıyla…\\n hükümetlerin “çevre kent toplum yararı”na uygulamalarını önlemek açtığımız davaları anayasanın örneklerini vereceğim maddeleri sayesinde kazanıyoruz\\n örneğin madde 11’deki “kanunlar anayasaya aykırı olamaz” hükmüne sakın dokunulmasın madde sayesinde kıyı yağmasından tarih tahribatına doğa kent düşmanı düzenleme iptal edildi rantçılar kaybetti türkiye kazandı\\n 35’inci maddedeki “mülkiyet hakkı toplum yararına sınırlanabilir” hükmü şehirciliğin güvencesidir aksi halde yapı yoğunlukları arsa sahibi kentin çıkarına belirlenemezdi\\n “kıyılardan yararlanma”ya 43’üncü maddedeki “öncelikle kamu yararı toplum çıkarı gözetilir” koşulu 45’inci maddedeki “devlet tarım arazileri çayır meraların amaç dışı kullanılmasını tahribini önlemekle görevlidir” hükümleri değişmesi teklif edilmeyecek maddeler… aksi halde betonlaşmayan kıyılarımızı hâlâ işgal edilememiş tarım alanlarımızı hemen kaybederiz…\\n “çevreyi geliştirmek çevre sağlığını korumak çevre kirlenmesini önlemek devletin vatandaşların ödevidir” diyen 56’ncı “devlet tarih kültür tabiat varlıklarının korunmasını sağlar” diyen 63’üncü maddeler akımızdır uygulanmasını sağlayacak hükümlerle donatılmalıdır\\n “konut hakkı”yla 57’nci maddedeki “devlet şehirlerin özelliklerini çevre şartlarını gözeten planlama çerçevesinde konut ihtiyacını karşılayacak tedbirleri alır” hükmündeki “şehrin özellikleri”ne dayalı “planlama” koşulu evrensel övgülere olmuştur yaşama geçebilmesi aynı koşulun tersini simgeleyen toki̇ vb uygulamalara engel olabilecek hükümler gerekiyor\\n örnekleri çoğaltmaya yerimiz anayasanın değişmezleri arasına ülkenin yağmalanmasına karşı hükümleri katabilirsek zaman çağdaş kimlikli türkiye’yi yaratabiliriz \\n\\n\n",
            "\n",
            "\n"
          ],
          "name": "stdout"
        }
      ]
    },
    {
      "cell_type": "markdown",
      "metadata": {
        "id": "C9J9Ldkrp5gE"
      },
      "source": [
        "###Number Removal"
      ]
    },
    {
      "cell_type": "markdown",
      "metadata": {
        "id": "Jafzn1mhF8Yp"
      },
      "source": [
        "\n",
        "<img class=\" lazyloaded\" data-src=\"https://media.giphy.com/media/5xaOcLwEvFOizxHVyVy/giphy.gif\" alt=\"\" title=\"interactive-presentation-header\" src=https://media.giphy.com/media/5xaOcLwEvFOizxHVyVy/giphy.gif>"
      ]
    },
    {
      "cell_type": "code",
      "metadata": {
        "id": "tOmhxtb2r9FM"
      },
      "source": [
        "train_df[\"text\"]=train_df[\"text\"].str.replace(r'\\d+', '')"
      ],
      "execution_count": null,
      "outputs": []
    },
    {
      "cell_type": "code",
      "metadata": {
        "id": "oytY7qqp0l2M"
      },
      "source": [
        "test_df[\"text\"]=test_df[\"text\"].str.replace(r'\\d+', '')"
      ],
      "execution_count": null,
      "outputs": []
    },
    {
      "cell_type": "markdown",
      "metadata": {
        "id": "2BKS2spm6cO2"
      },
      "source": [
        "## Stemmer"
      ]
    },
    {
      "cell_type": "markdown",
      "metadata": {
        "id": "cryt2UeGGeD8"
      },
      "source": [
        "This method will be decided whether to use or not after the training session. Model performance can change with respect to pre-processing."
      ]
    },
    {
      "cell_type": "code",
      "metadata": {
        "colab": {
          "base_uri": "https://localhost:8080/",
          "height": 86
        },
        "id": "rzCo56kapIca",
        "outputId": "f7445248-ad8e-41be-9266-cb33c37baa86"
      },
      "source": [
        "'''\n",
        "from nltk.tokenize import word_tokenize\n",
        "import nltk\n",
        "nltk.download(\"punkt\")\n",
        "\n",
        "!pip install snowballstemmer\n",
        "from snowballstemmer import TurkishStemmer\n",
        "stemmer = TurkishStemmer()\n",
        "unique_2 = set()\n",
        "for index,row in train_df.iterrows():\n",
        "  doc = row[1]\n",
        "  words = word_tokenize(doc)\n",
        "  result = stemmer.stemWords(words)\n",
        "  train_df.loc[index,\"text\"] = \" \".join(result)\n",
        "train_df.head()  \n",
        "'''\n"
      ],
      "execution_count": null,
      "outputs": [
        {
          "output_type": "execute_result",
          "data": {
            "application/vnd.google.colaboratory.intrinsic+json": {
              "type": "string"
            },
            "text/plain": [
              "'\\nfrom nltk.tokenize import word_tokenize\\nimport nltk\\nnltk.download(\"punkt\")\\n\\n!pip install snowballstemmer\\nfrom snowballstemmer import TurkishStemmer\\nstemmer = TurkishStemmer()\\nunique_2 = set()\\nfor index,row in train_df.iterrows():\\n  doc = row[1]\\n  words = word_tokenize(doc)\\n  result = stemmer.stemWords(words)\\n  train_df.loc[index,\"text\"] = \" \".join(result)\\ntrain_df.head()  \\n'"
            ]
          },
          "metadata": {
            "tags": []
          },
          "execution_count": 74
        }
      ]
    },
    {
      "cell_type": "markdown",
      "metadata": {
        "id": "yL36U9H0tFjB"
      },
      "source": [
        "## Final modifications before training"
      ]
    },
    {
      "cell_type": "code",
      "metadata": {
        "id": "EV9wkXOamOJy"
      },
      "source": [
        "x_train = train_df[\"text\"]\n",
        "y_train = train_df[\"label\"]"
      ],
      "execution_count": null,
      "outputs": []
    },
    {
      "cell_type": "code",
      "metadata": {
        "id": "fJkKhOMt_kNw"
      },
      "source": [
        "nb = make_pipeline(TfidfVectorizer(), MultinomialNB())"
      ],
      "execution_count": null,
      "outputs": []
    },
    {
      "cell_type": "code",
      "metadata": {
        "id": "W8a7vwviEjPF"
      },
      "source": [
        "lg_reg = make_pipeline(TfidfVectorizer(), LogisticRegression())"
      ],
      "execution_count": null,
      "outputs": []
    },
    {
      "cell_type": "code",
      "metadata": {
        "colab": {
          "base_uri": "https://localhost:8080/"
        },
        "id": "2VciWZKOTqN3",
        "outputId": "8d338b0f-a5c9-4cb0-b1d1-befd0cc86d9c"
      },
      "source": [
        "nltk.download(\"stopwords\")\n",
        "stopwords = nltk.corpus.stopwords.words(\"turkish\")"
      ],
      "execution_count": null,
      "outputs": [
        {
          "output_type": "stream",
          "text": [
            "[nltk_data] Downloading package stopwords to /root/nltk_data...\n",
            "[nltk_data]   Package stopwords is already up-to-date!\n"
          ],
          "name": "stdout"
        }
      ]
    },
    {
      "cell_type": "markdown",
      "metadata": {
        "id": "0jQqbM8_IJMy"
      },
      "source": [
        "## Train and Validation (Fine-Tuning)"
      ]
    },
    {
      "cell_type": "markdown",
      "metadata": {
        "id": "3ZC8WyN1AhiG"
      },
      "source": [
        "### Naive Bayes"
      ]
    },
    {
      "cell_type": "code",
      "metadata": {
        "colab": {
          "base_uri": "https://localhost:8080/"
        },
        "id": "0ZJ53gSfGXlK",
        "outputId": "02608439-f952-42c7-e3d7-4116121d6d08"
      },
      "source": [
        "nb.get_params"
      ],
      "execution_count": null,
      "outputs": [
        {
          "output_type": "execute_result",
          "data": {
            "text/plain": [
              "<bound method Pipeline.get_params of Pipeline(memory=None,\n",
              "         steps=[('tfidfvectorizer',\n",
              "                 TfidfVectorizer(analyzer='word', binary=False,\n",
              "                                 decode_error='strict',\n",
              "                                 dtype=<class 'numpy.float64'>,\n",
              "                                 encoding='utf-8', input='content',\n",
              "                                 lowercase=True, max_df=1.0, max_features=None,\n",
              "                                 min_df=1, ngram_range=(1, 1), norm='l2',\n",
              "                                 preprocessor=None, smooth_idf=True,\n",
              "                                 stop_words=None, strip_accents=None,\n",
              "                                 sublinear_tf=False,\n",
              "                                 token_pattern='(?u)\\\\b\\\\w\\\\w+\\\\b',\n",
              "                                 tokenizer=None, use_idf=True,\n",
              "                                 vocabulary=None)),\n",
              "                ('multinomialnb',\n",
              "                 MultinomialNB(alpha=1.0, class_prior=None, fit_prior=True))],\n",
              "         verbose=False)>"
            ]
          },
          "metadata": {
            "tags": []
          },
          "execution_count": 79
        }
      ]
    },
    {
      "cell_type": "code",
      "metadata": {
        "colab": {
          "base_uri": "https://localhost:8080/"
        },
        "id": "jY1JuIX0IMz_",
        "outputId": "32ea09a1-80d8-4ad2-e33f-e344c664e033"
      },
      "source": [
        "grid = [\n",
        "              {\n",
        "                  \"tfidfvectorizer__norm\":[\"l1\",\"l2\"],\n",
        "                  \"tfidfvectorizer__use_idf\":[\"False\",\"True\"],\n",
        "                  \"tfidfvectorizer__smooth_idf\":[\"False\",\"True\"],\n",
        "\n",
        "              },{\n",
        "                  \"multinomialnb__alpha\":[0.1,0.01,0.001,0.0001],\n",
        "                  \"multinomialnb__class_prior\":[[0.2,0.2,0.3,0.3,0.2],None],\n",
        "              }\n",
        "]\n",
        "\n",
        "CV_MNB = GridSearchCV(nb, grid, n_jobs= 4)\n",
        "CV_MNB.fit(x_train, y_train)  "
      ],
      "execution_count": null,
      "outputs": [
        {
          "output_type": "execute_result",
          "data": {
            "text/plain": [
              "GridSearchCV(cv=None, error_score=nan,\n",
              "             estimator=Pipeline(memory=None,\n",
              "                                steps=[('tfidfvectorizer',\n",
              "                                        TfidfVectorizer(analyzer='word',\n",
              "                                                        binary=False,\n",
              "                                                        decode_error='strict',\n",
              "                                                        dtype=<class 'numpy.float64'>,\n",
              "                                                        encoding='utf-8',\n",
              "                                                        input='content',\n",
              "                                                        lowercase=True,\n",
              "                                                        max_df=1.0,\n",
              "                                                        max_features=None,\n",
              "                                                        min_df=1,\n",
              "                                                        ngram_range=(1, 1),\n",
              "                                                        norm='l2',\n",
              "                                                        preprocessor=None,\n",
              "                                                        smooth_idf=True,\n",
              "                                                        stop_words=N...\n",
              "             iid='deprecated', n_jobs=4,\n",
              "             param_grid=[{'tfidfvectorizer__norm': ['l1', 'l2'],\n",
              "                          'tfidfvectorizer__smooth_idf': ['False', 'True'],\n",
              "                          'tfidfvectorizer__use_idf': ['False', 'True']},\n",
              "                         {'multinomialnb__alpha': [0.1, 0.01, 0.001, 0.0001],\n",
              "                          'multinomialnb__class_prior': [[0.2, 0.2, 0.3, 0.3,\n",
              "                                                          0.2],\n",
              "                                                         None]}],\n",
              "             pre_dispatch='2*n_jobs', refit=True, return_train_score=False,\n",
              "             scoring=None, verbose=0)"
            ]
          },
          "metadata": {
            "tags": []
          },
          "execution_count": 33
        }
      ]
    },
    {
      "cell_type": "code",
      "metadata": {
        "colab": {
          "base_uri": "https://localhost:8080/"
        },
        "id": "zgqEII27-bQ4",
        "outputId": "53577ba1-5b46-478c-ca18-11e953e65616"
      },
      "source": [
        "CV_MNB.best_score_"
      ],
      "execution_count": null,
      "outputs": [
        {
          "output_type": "execute_result",
          "data": {
            "text/plain": [
              "0.7843749999999999"
            ]
          },
          "metadata": {
            "tags": []
          },
          "execution_count": 34
        }
      ]
    },
    {
      "cell_type": "code",
      "metadata": {
        "colab": {
          "base_uri": "https://localhost:8080/"
        },
        "id": "-TFtJghw-hme",
        "outputId": "4ff4abc6-5e74-447b-c023-e0c0387e12c9"
      },
      "source": [
        "CV_MNB.best_estimator_"
      ],
      "execution_count": null,
      "outputs": [
        {
          "output_type": "execute_result",
          "data": {
            "text/plain": [
              "Pipeline(memory=None,\n",
              "         steps=[('tfidfvectorizer',\n",
              "                 TfidfVectorizer(analyzer='word', binary=False,\n",
              "                                 decode_error='strict',\n",
              "                                 dtype=<class 'numpy.float64'>,\n",
              "                                 encoding='utf-8', input='content',\n",
              "                                 lowercase=True, max_df=1.0, max_features=None,\n",
              "                                 min_df=1, ngram_range=(1, 1), norm='l2',\n",
              "                                 preprocessor=None, smooth_idf=True,\n",
              "                                 stop_words=None, strip_accents=None,\n",
              "                                 sublinear_tf=False,\n",
              "                                 token_pattern='(?u)\\\\b\\\\w\\\\w+\\\\b',\n",
              "                                 tokenizer=None, use_idf=True,\n",
              "                                 vocabulary=None)),\n",
              "                ('multinomialnb',\n",
              "                 MultinomialNB(alpha=0.01,\n",
              "                               class_prior=[0.2, 0.2, 0.3, 0.3, 0.2],\n",
              "                               fit_prior=True))],\n",
              "         verbose=False)"
            ]
          },
          "metadata": {
            "tags": []
          },
          "execution_count": 35
        }
      ]
    },
    {
      "cell_type": "markdown",
      "metadata": {
        "id": "yfG1rn3oqhE6"
      },
      "source": [
        "We have managed to find best possible parameters for our models with respect to our current parameter space. We will evaluate F1 score, AUC-ROC and accuracy score of the generative model that have been trained. "
      ]
    },
    {
      "cell_type": "markdown",
      "metadata": {
        "id": "XQ_WHBJAuXPm"
      },
      "source": [
        "### Logistic Regression"
      ]
    },
    {
      "cell_type": "code",
      "metadata": {
        "colab": {
          "base_uri": "https://localhost:8080/"
        },
        "id": "cZtLHa_n4AQC",
        "outputId": "3439708e-1cbe-48f3-b1c3-cdfe7392b334"
      },
      "source": [
        "lg_reg.get_params"
      ],
      "execution_count": null,
      "outputs": [
        {
          "output_type": "execute_result",
          "data": {
            "text/plain": [
              "<bound method Pipeline.get_params of Pipeline(memory=None,\n",
              "         steps=[('tfidfvectorizer',\n",
              "                 TfidfVectorizer(analyzer='word', binary=False,\n",
              "                                 decode_error='strict',\n",
              "                                 dtype=<class 'numpy.float64'>,\n",
              "                                 encoding='utf-8', input='content',\n",
              "                                 lowercase=True, max_df=1.0, max_features=None,\n",
              "                                 min_df=1, ngram_range=(1, 1), norm='l2',\n",
              "                                 preprocessor=None, smooth_idf=True,\n",
              "                                 stop_words=None, strip_accents=None,\n",
              "                                 sublinear_tf=False,\n",
              "                                 token_pattern='(?u)\\\\b\\\\w\\\\w+\\\\b',\n",
              "                                 tokenizer=None, use_idf=True,\n",
              "                                 vocabulary=None)),\n",
              "                ('logisticregression',\n",
              "                 LogisticRegression(C=1.0, class_weight=None, dual=False,\n",
              "                                    fit_intercept=True, intercept_scaling=1,\n",
              "                                    l1_ratio=None, max_iter=100,\n",
              "                                    multi_class='auto', n_jobs=None,\n",
              "                                    penalty='l2', random_state=None,\n",
              "                                    solver='lbfgs', tol=0.0001, verbose=0,\n",
              "                                    warm_start=False))],\n",
              "         verbose=False)>"
            ]
          },
          "metadata": {
            "tags": []
          },
          "execution_count": 36
        }
      ]
    },
    {
      "cell_type": "code",
      "metadata": {
        "id": "lUXOH41suaet",
        "colab": {
          "base_uri": "https://localhost:8080/"
        },
        "outputId": "bdbb3c25-b247-4e2d-d1cc-10752548fdf5"
      },
      "source": [
        "grid = [\n",
        "              {\n",
        "                  \"tfidfvectorizer__norm\":[\"l1\",\"l2\"],\n",
        "                  \"tfidfvectorizer__use_idf\":[\"False\",\"True\"],\n",
        "                  \"tfidfvectorizer__smooth_idf\":[\"False\",\"True\"],\n",
        "\n",
        "              },{\n",
        "                  \"logisticregression__C\":[0.001,0.01,0.1,1,10],\n",
        "                  \"logisticregression__solver\":['lbfgs', 'liblinear'],\n",
        "                  \"logisticregression__multi_class\":['ovr', 'multinomial'],\n",
        "              }\n",
        "]\n",
        "\n",
        "CV_LR = GridSearchCV(lg_reg, grid,n_jobs= -1)\n",
        "CV_LR.fit(x_train, y_train)"
      ],
      "execution_count": null,
      "outputs": [
        {
          "output_type": "stream",
          "text": [
            "/usr/local/lib/python3.6/dist-packages/sklearn/linear_model/_logistic.py:940: ConvergenceWarning: lbfgs failed to converge (status=1):\n",
            "STOP: TOTAL NO. of ITERATIONS REACHED LIMIT.\n",
            "\n",
            "Increase the number of iterations (max_iter) or scale the data as shown in:\n",
            "    https://scikit-learn.org/stable/modules/preprocessing.html\n",
            "Please also refer to the documentation for alternative solver options:\n",
            "    https://scikit-learn.org/stable/modules/linear_model.html#logistic-regression\n",
            "  extra_warning_msg=_LOGISTIC_SOLVER_CONVERGENCE_MSG)\n",
            "/usr/local/lib/python3.6/dist-packages/sklearn/linear_model/_logistic.py:940: ConvergenceWarning: lbfgs failed to converge (status=1):\n",
            "STOP: TOTAL NO. of ITERATIONS REACHED LIMIT.\n",
            "\n",
            "Increase the number of iterations (max_iter) or scale the data as shown in:\n",
            "    https://scikit-learn.org/stable/modules/preprocessing.html\n",
            "Please also refer to the documentation for alternative solver options:\n",
            "    https://scikit-learn.org/stable/modules/linear_model.html#logistic-regression\n",
            "  extra_warning_msg=_LOGISTIC_SOLVER_CONVERGENCE_MSG)\n"
          ],
          "name": "stderr"
        },
        {
          "output_type": "execute_result",
          "data": {
            "text/plain": [
              "GridSearchCV(cv=None, error_score=nan,\n",
              "             estimator=Pipeline(memory=None,\n",
              "                                steps=[('tfidfvectorizer',\n",
              "                                        TfidfVectorizer(analyzer='word',\n",
              "                                                        binary=False,\n",
              "                                                        decode_error='strict',\n",
              "                                                        dtype=<class 'numpy.float64'>,\n",
              "                                                        encoding='utf-8',\n",
              "                                                        input='content',\n",
              "                                                        lowercase=True,\n",
              "                                                        max_df=1.0,\n",
              "                                                        max_features=None,\n",
              "                                                        min_df=1,\n",
              "                                                        ngram_range=(1, 1),\n",
              "                                                        norm='l2',\n",
              "                                                        preprocessor=None,\n",
              "                                                        smooth_idf=True,\n",
              "                                                        stop_words=N...\n",
              "             param_grid=[{'tfidfvectorizer__norm': ['l1', 'l2'],\n",
              "                          'tfidfvectorizer__smooth_idf': ['False', 'True'],\n",
              "                          'tfidfvectorizer__use_idf': ['False', 'True']},\n",
              "                         {'logisticregression__C': [0.001, 0.01, 0.1, 1, 10],\n",
              "                          'logisticregression__multi_class': ['ovr',\n",
              "                                                              'multinomial'],\n",
              "                          'logisticregression__solver': ['lbfgs',\n",
              "                                                         'liblinear']}],\n",
              "             pre_dispatch='2*n_jobs', refit=True, return_train_score=False,\n",
              "             scoring=None, verbose=0)"
            ]
          },
          "metadata": {
            "tags": []
          },
          "execution_count": 37
        }
      ]
    },
    {
      "cell_type": "code",
      "metadata": {
        "colab": {
          "base_uri": "https://localhost:8080/"
        },
        "id": "NNNFKGMa1ZKy",
        "outputId": "6c5dcc0e-36d3-492e-a4e9-c2d6ba2a06e0"
      },
      "source": [
        "CV_LR.best_score_"
      ],
      "execution_count": null,
      "outputs": [
        {
          "output_type": "execute_result",
          "data": {
            "text/plain": [
              "0.8402499999999999"
            ]
          },
          "metadata": {
            "tags": []
          },
          "execution_count": 38
        }
      ]
    },
    {
      "cell_type": "code",
      "metadata": {
        "colab": {
          "base_uri": "https://localhost:8080/"
        },
        "id": "ZgninWxBAUXZ",
        "outputId": "e46411e5-44eb-48a1-8d6b-fb39ff8e08cd"
      },
      "source": [
        "CV_LR.best_estimator_"
      ],
      "execution_count": null,
      "outputs": [
        {
          "output_type": "execute_result",
          "data": {
            "text/plain": [
              "Pipeline(memory=None,\n",
              "         steps=[('tfidfvectorizer',\n",
              "                 TfidfVectorizer(analyzer='word', binary=False,\n",
              "                                 decode_error='strict',\n",
              "                                 dtype=<class 'numpy.float64'>,\n",
              "                                 encoding='utf-8', input='content',\n",
              "                                 lowercase=True, max_df=1.0, max_features=None,\n",
              "                                 min_df=1, ngram_range=(1, 1), norm='l2',\n",
              "                                 preprocessor=None, smooth_idf=True,\n",
              "                                 stop_words=None, strip_accents=None,\n",
              "                                 sublinear_tf=False,\n",
              "                                 token_pattern='(?u)\\\\b\\\\w\\\\w+\\\\b',\n",
              "                                 tokenizer=None, use_idf=True,\n",
              "                                 vocabulary=None)),\n",
              "                ('logisticregression',\n",
              "                 LogisticRegression(C=10, class_weight=None, dual=False,\n",
              "                                    fit_intercept=True, intercept_scaling=1,\n",
              "                                    l1_ratio=None, max_iter=100,\n",
              "                                    multi_class='ovr', n_jobs=None,\n",
              "                                    penalty='l2', random_state=None,\n",
              "                                    solver='lbfgs', tol=0.0001, verbose=0,\n",
              "                                    warm_start=False))],\n",
              "         verbose=False)"
            ]
          },
          "metadata": {
            "tags": []
          },
          "execution_count": 39
        }
      ]
    },
    {
      "cell_type": "markdown",
      "metadata": {
        "id": "smRQzf_pUDFX"
      },
      "source": [
        "## Test final model after fine-tuning and plot scores"
      ]
    },
    {
      "cell_type": "code",
      "metadata": {
        "id": "TnMtBF5rDge_"
      },
      "source": [
        "x_test = test_df[\"text\"]\n",
        "y_test = test_df[\"label\"]"
      ],
      "execution_count": null,
      "outputs": []
    },
    {
      "cell_type": "markdown",
      "metadata": {
        "id": "Mi40OEhGDge5"
      },
      "source": [
        "### Classification Report with F1-Score and Accuracy Score"
      ]
    },
    {
      "cell_type": "code",
      "metadata": {
        "id": "EOFSYLyjDgfA"
      },
      "source": [
        "y_pred = CV_MNB.predict(x_test)"
      ],
      "execution_count": null,
      "outputs": []
    },
    {
      "cell_type": "code",
      "metadata": {
        "colab": {
          "base_uri": "https://localhost:8080/"
        },
        "id": "zOqqdOYvDgfA",
        "outputId": "74414107-2aef-42da-9564-c375681c275f"
      },
      "source": [
        "print(classification_report(y_test,y_pred))"
      ],
      "execution_count": null,
      "outputs": [
        {
          "output_type": "stream",
          "text": [
            "              precision    recall  f1-score   support\n",
            "\n",
            "       dunya       0.82      0.66      0.73       395\n",
            "        spor       0.93      0.84      0.88       384\n",
            "     turkiye       0.59      0.63      0.61       421\n",
            "       video       0.83      0.31      0.45       408\n",
            "    yazarlar       0.53      0.99      0.69       392\n",
            "\n",
            "    accuracy                           0.68      2000\n",
            "   macro avg       0.74      0.69      0.67      2000\n",
            "weighted avg       0.74      0.68      0.67      2000\n",
            "\n"
          ],
          "name": "stdout"
        }
      ]
    },
    {
      "cell_type": "markdown",
      "metadata": {
        "id": "NgNw6_n4ECkv"
      },
      "source": [
        "### Confussion Matrix"
      ]
    },
    {
      "cell_type": "code",
      "metadata": {
        "colab": {
          "base_uri": "https://localhost:8080/"
        },
        "id": "Kkv1e1MOECk2",
        "outputId": "7ae9d767-12ae-4808-bd52-5dd8e2ecee29"
      },
      "source": [
        "print(confusion_matrix(y_test,y_pred))"
      ],
      "execution_count": null,
      "outputs": [
        {
          "output_type": "stream",
          "text": [
            "[[262   4  31   8  90]\n",
            " [  4 322  14   0  44]\n",
            " [ 18   3 266  18 116]\n",
            " [ 34  15 138 127  94]\n",
            " [  0   3   1   0 388]]\n"
          ],
          "name": "stdout"
        }
      ]
    },
    {
      "cell_type": "code",
      "metadata": {
        "colab": {
          "base_uri": "https://localhost:8080/",
          "height": 296
        },
        "id": "UUijKCW7ECk2",
        "outputId": "e8ef5cd3-9d7d-496c-e3a9-18d1aefe94bb"
      },
      "source": [
        "plot_confusion_matrix(CV_MNB,x_test,y_test)"
      ],
      "execution_count": null,
      "outputs": [
        {
          "output_type": "execute_result",
          "data": {
            "text/plain": [
              "<sklearn.metrics._plot.confusion_matrix.ConfusionMatrixDisplay at 0x7fe6593ca3c8>"
            ]
          },
          "metadata": {
            "tags": []
          },
          "execution_count": 44
        },
        {
          "output_type": "display_data",
          "data": {
            "image/png": "[encoded data removed]",
            "text/plain": [
              "<Figure size 432x288 with 2 Axes>"
            ]
          },
          "metadata": {
            "tags": [],
            "needs_background": "light"
          }
        }
      ]
    },
    {
      "cell_type": "markdown",
      "metadata": {
        "id": "fPL9ib5l3xZB"
      },
      "source": [
        "### Classification Report with F1-Score and Accuracy Score"
      ]
    },
    {
      "cell_type": "code",
      "metadata": {
        "id": "wfhv-Sse3xZT"
      },
      "source": [
        "y_pred = CV_LR.predict(x_test)"
      ],
      "execution_count": null,
      "outputs": []
    },
    {
      "cell_type": "code",
      "metadata": {
        "id": "dLeyTlAU3xZT",
        "colab": {
          "base_uri": "https://localhost:8080/"
        },
        "outputId": "30395fbc-a6fc-4ffb-bc99-2f228bf868f5"
      },
      "source": [
        "print(classification_report(y_test,y_pred))"
      ],
      "execution_count": null,
      "outputs": [
        {
          "output_type": "stream",
          "text": [
            "              precision    recall  f1-score   support\n",
            "\n",
            "       dunya       0.84      0.80      0.82       395\n",
            "        spor       0.96      0.89      0.92       384\n",
            "     turkiye       0.79      0.62      0.69       421\n",
            "       video       0.80      0.77      0.79       408\n",
            "    yazarlar       0.72      0.99      0.83       392\n",
            "\n",
            "    accuracy                           0.81      2000\n",
            "   macro avg       0.82      0.81      0.81      2000\n",
            "weighted avg       0.82      0.81      0.81      2000\n",
            "\n"
          ],
          "name": "stdout"
        }
      ]
    },
    {
      "cell_type": "markdown",
      "metadata": {
        "id": "z22h85H930Bu"
      },
      "source": [
        "### Confussion Matrix"
      ]
    },
    {
      "cell_type": "code",
      "metadata": {
        "id": "mtehAXrr30Bv",
        "colab": {
          "base_uri": "https://localhost:8080/"
        },
        "outputId": "353d76db-9dfe-42af-b32b-ebf0ed2e8855"
      },
      "source": [
        "print(confusion_matrix(y_test,y_pred))"
      ],
      "execution_count": null,
      "outputs": [
        {
          "output_type": "stream",
          "text": [
            "[[317   3  15  22  38]\n",
            " [  5 341   4   5  29]\n",
            " [ 32   2 259  53  75]\n",
            " [ 23   9  50 316  10]\n",
            " [  2   1   1   0 388]]\n"
          ],
          "name": "stdout"
        }
      ]
    },
    {
      "cell_type": "code",
      "metadata": {
        "id": "MCX6QS1P30Bv",
        "colab": {
          "base_uri": "https://localhost:8080/",
          "height": 296
        },
        "outputId": "d559eaa9-e187-4799-afe3-5ec2f5f1b1dc"
      },
      "source": [
        "plot_confusion_matrix(CV_LR,x_test,y_test)"
      ],
      "execution_count": null,
      "outputs": [
        {
          "output_type": "execute_result",
          "data": {
            "text/plain": [
              "<sklearn.metrics._plot.confusion_matrix.ConfusionMatrixDisplay at 0x7fe65aa3cf98>"
            ]
          },
          "metadata": {
            "tags": []
          },
          "execution_count": 48
        },
        {
          "output_type": "display_data",
          "data": {
            "image/png": "[encoded data removed]",
            "text/plain": [
              "<Figure size 432x288 with 2 Axes>"
            ]
          },
          "metadata": {
            "tags": [],
            "needs_background": "light"
          }
        }
      ]
    }
  ]
}
